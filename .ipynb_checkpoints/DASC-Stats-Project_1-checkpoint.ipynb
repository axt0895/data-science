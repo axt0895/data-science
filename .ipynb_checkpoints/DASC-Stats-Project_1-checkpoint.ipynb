{
 "cells": [
  {
   "cell_type": "markdown",
   "id": "5839ab68",
   "metadata": {},
   "source": [
    "### The data collected is heights\n",
    "### Location of collection is random - walmart, Activity Center, UTA library, UTA Parking Lot, UTA Nedderman Hall, Kroger, Restaurants, Street, etc"
   ]
  },
  {
   "cell_type": "code",
   "execution_count": 93,
   "id": "8e5571b0",
   "metadata": {},
   "outputs": [],
   "source": [
    "%matplotlib inline\n",
    "import numpy as np\n",
    "import pandas as pd\n",
    "import matplotlib.pyplot as plt\n",
    "import seaborn as sns\n",
    "\n",
    "plt.style.use('seaborn-v0_8')"
   ]
  },
  {
   "cell_type": "code",
   "execution_count": 90,
   "id": "f3237df4",
   "metadata": {},
   "outputs": [],
   "source": [
    "# total number of observation - 172\n",
    "# heights were taken in different measurement- mostly in feet & inches, however \n",
    "# they were converted in centimeter for standardization.\n",
    "heights = [170, 182, 176, 165, 167, 157, 167, 164, 170, 159, 172, 182, 166, 171, \n",
    "          174, 163, 169, 167, 168, 159, 167, 172, 182, 177, 189, 159, 176, 169, \n",
    "          189, 159, 159, 161, 146, 162, 159, 169, 170, 186, 177, 161, 158, 172, \n",
    "          154, 185, 179, 162, 150, 181, 166, 179, 151, 161, 167, 167, 162, 173, \n",
    "          156, 166, 168, 172, 174, 156, 152, 180, 170, 160, 183, 168, 179, 168,\n",
    "          188, 185, 165, 177, 173, 181, 157, 174, 178, 149, 155, 147, 164, 174,\n",
    "          182, 168, 183, 153, 150, 166, 171, 167, 146, 166, 154, 174, 171, 158, \n",
    "          162, 156, 166, 177, 157, 172, 162, 159, 166, 157, 161, 155, 187, 167,\n",
    "          160, 169, 166, 165, 173, 175, 162, 161, 164, 144, 152, 181, 183, 165, \n",
    "          173, 170, 198, 178, 166, 157, 151, 169, 159, 153, 161, 156, 184, 176, \n",
    "          167, 182, 168, 158, 182, 172, 157, 165, 158, 153, 176, 186, 153, 173, \n",
    "          160, 162, 161, 158, 167, 159, 170, 166, 165, 158, 161, 175, 172, 157,\n",
    "          168, 175, 150, 172]\n"
   ]
  },
  {
   "cell_type": "code",
   "execution_count": 92,
   "id": "639ab45d",
   "metadata": {},
   "outputs": [
    {
     "name": "stdout",
     "output_type": "stream",
     "text": [
      "Mean: 167.05\n",
      "Variance: 104.39\n",
      "Standard Deviation: 10.22\n"
     ]
    }
   ],
   "source": [
    "mean = np.mean(heights)\n",
    "variance = np.var(heights)\n",
    "standard_deviation = np.std(heights)\n",
    "print(f'Mean: {mean:.2f}')\n",
    "print(f'Variance: {variance:.2f}')\n",
    "print(f'Standard Deviation: {standard_deviation:.2f}')"
   ]
  },
  {
   "cell_type": "code",
   "execution_count": 91,
   "id": "b6c63cee",
   "metadata": {},
   "outputs": [
    {
     "name": "stdout",
     "output_type": "stream",
     "text": [
      "Quartiles:\n",
      "Q1 (25th percentile)\t\t: 159.00\n",
      "Q2 (50th percentile, median)\t: 167.00\n",
      "Q3 (75th percentile)\t\t: 174.00\n"
     ]
    }
   ],
   "source": [
    "print('Quartiles:')\n",
    "Q1 = np.percentile(heights, 25)\n",
    "Q2 = np.percentile(heights, 50)\n",
    "Q3 = np.percentile(heights, 75)\n",
    "# Print the quartile values\n",
    "print(f'Q1 (25th percentile)\\t\\t: {Q1:.2f}')\n",
    "print(f'Q2 (50th percentile, median)\\t: {Q2:.2f}')\n",
    "print(f'Q3 (75th percentile)\\t\\t: {Q3:.2f}')"
   ]
  },
  {
   "cell_type": "code",
   "execution_count": 98,
   "id": "7351d701",
   "metadata": {},
   "outputs": [],
   "source": [
    "frequencies, bin_edges = np.histogram(heights, bins=11)"
   ]
  },
  {
   "cell_type": "code",
   "execution_count": 102,
   "id": "04b2dc01",
   "metadata": {},
   "outputs": [
    {
     "data": {
      "text/html": [
       "<div>\n",
       "<style scoped>\n",
       "    .dataframe tbody tr th:only-of-type {\n",
       "        vertical-align: middle;\n",
       "    }\n",
       "\n",
       "    .dataframe tbody tr th {\n",
       "        vertical-align: top;\n",
       "    }\n",
       "\n",
       "    .dataframe thead th {\n",
       "        text-align: right;\n",
       "    }\n",
       "</style>\n",
       "<table border=\"1\" class=\"dataframe\">\n",
       "  <thead>\n",
       "    <tr style=\"text-align: right;\">\n",
       "      <th></th>\n",
       "      <th>Lower Edge</th>\n",
       "      <th>Upper Edge</th>\n",
       "      <th>Frequency</th>\n",
       "    </tr>\n",
       "  </thead>\n",
       "  <tbody>\n",
       "    <tr>\n",
       "      <th>0</th>\n",
       "      <td>144.00</td>\n",
       "      <td>148.91</td>\n",
       "      <td>4</td>\n",
       "    </tr>\n",
       "    <tr>\n",
       "      <th>1</th>\n",
       "      <td>148.91</td>\n",
       "      <td>153.82</td>\n",
       "      <td>12</td>\n",
       "    </tr>\n",
       "    <tr>\n",
       "      <th>2</th>\n",
       "      <td>153.82</td>\n",
       "      <td>158.73</td>\n",
       "      <td>21</td>\n",
       "    </tr>\n",
       "    <tr>\n",
       "      <th>3</th>\n",
       "      <td>158.73</td>\n",
       "      <td>163.64</td>\n",
       "      <td>28</td>\n",
       "    </tr>\n",
       "    <tr>\n",
       "      <th>4</th>\n",
       "      <td>163.64</td>\n",
       "      <td>168.55</td>\n",
       "      <td>36</td>\n",
       "    </tr>\n",
       "    <tr>\n",
       "      <th>5</th>\n",
       "      <td>168.55</td>\n",
       "      <td>173.45</td>\n",
       "      <td>27</td>\n",
       "    </tr>\n",
       "    <tr>\n",
       "      <th>6</th>\n",
       "      <td>173.45</td>\n",
       "      <td>178.36</td>\n",
       "      <td>18</td>\n",
       "    </tr>\n",
       "    <tr>\n",
       "      <th>7</th>\n",
       "      <td>178.36</td>\n",
       "      <td>183.27</td>\n",
       "      <td>16</td>\n",
       "    </tr>\n",
       "    <tr>\n",
       "      <th>8</th>\n",
       "      <td>183.27</td>\n",
       "      <td>188.18</td>\n",
       "      <td>7</td>\n",
       "    </tr>\n",
       "    <tr>\n",
       "      <th>9</th>\n",
       "      <td>188.18</td>\n",
       "      <td>193.09</td>\n",
       "      <td>2</td>\n",
       "    </tr>\n",
       "    <tr>\n",
       "      <th>10</th>\n",
       "      <td>193.09</td>\n",
       "      <td>198.00</td>\n",
       "      <td>1</td>\n",
       "    </tr>\n",
       "  </tbody>\n",
       "</table>\n",
       "</div>"
      ],
      "text/plain": [
       "    Lower Edge  Upper Edge  Frequency\n",
       "0       144.00      148.91          4\n",
       "1       148.91      153.82         12\n",
       "2       153.82      158.73         21\n",
       "3       158.73      163.64         28\n",
       "4       163.64      168.55         36\n",
       "5       168.55      173.45         27\n",
       "6       173.45      178.36         18\n",
       "7       178.36      183.27         16\n",
       "8       183.27      188.18          7\n",
       "9       188.18      193.09          2\n",
       "10      193.09      198.00          1"
      ]
     },
     "execution_count": 102,
     "metadata": {},
     "output_type": "execute_result"
    }
   ],
   "source": [
    "frequency_table = pd.DataFrame({\n",
    "    'Lower Edge': np.round(bin_edges[:-1],2), \n",
    "    'Upper Edge': np.round(bin_edges[1:],2),\n",
    "    'Frequency': frequencies\n",
    "})\n",
    "frequency_table"
   ]
  },
  {
   "cell_type": "code",
   "execution_count": 87,
   "id": "e7ce96d7",
   "metadata": {},
   "outputs": [
    {
     "data": {
      "image/png": "[encoded data removed]",
      "text/plain": [
       "<Figure size 700x200 with 1 Axes>"
      ]
     },
     "metadata": {},
     "output_type": "display_data"
    }
   ],
   "source": [
    "plt.figure(figsize=(7, 2))\n",
    "sns.boxplot(heights, orient='h')\n",
    "plt.title('Heights of a person')\n",
    "plt.show()"
   ]
  },
  {
   "cell_type": "code",
   "execution_count": 97,
   "id": "4da67611",
   "metadata": {},
   "outputs": [
    {
     "data": {
      "image/png": "[encoded data removed]",
      "text/plain": [
       "<Figure size 900x300 with 2 Axes>"
      ]
     },
     "metadata": {},
     "output_type": "display_data"
    }
   ],
   "source": [
    "plt.figure(figsize=(9,3))\n",
    "plt.subplot(121);sns.histplot(heights, bins = 11);plt.title('Histogram of heights');\n",
    "plt.subplot(122);sns.kdeplot(heights, fill=True, alpha = 0.7);plt.title('Kernel Density Estimation of heights');\n",
    "plt.tight_layout()\n",
    "plt.show()"
   ]
  },
  {
   "cell_type": "code",
   "execution_count": null,
   "id": "64513e56",
   "metadata": {},
   "outputs": [],
   "source": []
  }
 ],
 "metadata": {
  "kernelspec": {
   "display_name": "Python 3 (ipykernel)",
   "language": "python",
   "name": "python3"
  },
  "language_info": {
   "codemirror_mode": {
    "name": "ipython",
    "version": 3
   },
   "file_extension": ".py",
   "mimetype": "text/x-python",
   "name": "python",
   "nbconvert_exporter": "python",
   "pygments_lexer": "ipython3",
   "version": "3.11.4"
  }
 },
 "nbformat": 4,
 "nbformat_minor": 5
}

{
 "cells": [
  {
   "cell_type": "code",
   "execution_count": 2,
   "id": "5ab08563",
   "metadata": {},
   "outputs": [
    {
     "data": {
      "text/plain": [
       "RandomState(MT19937) at 0x11F48F340"
      ]
     },
     "execution_count": 2,
     "metadata": {},
     "output_type": "execute_result"
    }
   ],
   "source": [
    "%matplotlib inline\n",
    "import numpy as np\n",
    "import pandas as pd\n",
    "import matplotlib as mpl\n",
    "import matplotlib.pyplot as plt\n",
    "import seaborn as sns\n",
    "\n",
    "np.random.RandomState(42)"
   ]
  },
  {
   "cell_type": "code",
   "execution_count": 4,
   "id": "469a2936",
   "metadata": {},
   "outputs": [
    {
     "data": {
      "text/plain": [
       "(2511, 7)"
      ]
     },
     "execution_count": 4,
     "metadata": {},
     "output_type": "execute_result"
    }
   ],
   "source": [
    "data = pd.read_csv('/Users/anilthapa/Documents/Datasets/Data-Science Class/goldstock.csv')\n",
    "data.shape"
   ]
  },
  {
   "cell_type": "code",
   "execution_count": 5,
   "id": "e7c64a4e",
   "metadata": {},
   "outputs": [
    {
     "name": "stdout",
     "output_type": "stream",
     "text": [
      "<class 'pandas.core.frame.DataFrame'>\n",
      "RangeIndex: 2511 entries, 0 to 2510\n",
      "Data columns (total 7 columns):\n",
      " #   Column      Non-Null Count  Dtype  \n",
      "---  ------      --------------  -----  \n",
      " 0   Unnamed: 0  2511 non-null   int64  \n",
      " 1   Date        2511 non-null   object \n",
      " 2   Close       2511 non-null   float64\n",
      " 3   Volume      2511 non-null   float64\n",
      " 4   Open        2511 non-null   float64\n",
      " 5   High        2511 non-null   float64\n",
      " 6   Low         2511 non-null   float64\n",
      "dtypes: float64(5), int64(1), object(1)\n",
      "memory usage: 137.4+ KB\n"
     ]
    }
   ],
   "source": [
    "data.info()"
   ]
  },
  {
   "cell_type": "code",
   "execution_count": 7,
   "id": "7c6a35d5",
   "metadata": {},
   "outputs": [
    {
     "data": {
      "text/html": [
       "<div>\n",
       "<style scoped>\n",
       "    .dataframe tbody tr th:only-of-type {\n",
       "        vertical-align: middle;\n",
       "    }\n",
       "\n",
       "    .dataframe tbody tr th {\n",
       "        vertical-align: top;\n",
       "    }\n",
       "\n",
       "    .dataframe thead th {\n",
       "        text-align: right;\n",
       "    }\n",
       "</style>\n",
       "<table border=\"1\" class=\"dataframe\">\n",
       "  <thead>\n",
       "    <tr style=\"text-align: right;\">\n",
       "      <th></th>\n",
       "      <th>Unnamed: 0</th>\n",
       "      <th>Date</th>\n",
       "      <th>Close</th>\n",
       "      <th>Volume</th>\n",
       "      <th>Open</th>\n",
       "      <th>High</th>\n",
       "      <th>Low</th>\n",
       "    </tr>\n",
       "  </thead>\n",
       "  <tbody>\n",
       "    <tr>\n",
       "      <th>0</th>\n",
       "      <td>0</td>\n",
       "      <td>2024-01-19</td>\n",
       "      <td>2029.3</td>\n",
       "      <td>166078.0</td>\n",
       "      <td>2027.4</td>\n",
       "      <td>2041.9</td>\n",
       "      <td>2022.2</td>\n",
       "    </tr>\n",
       "    <tr>\n",
       "      <th>1</th>\n",
       "      <td>1</td>\n",
       "      <td>2024-01-18</td>\n",
       "      <td>2021.6</td>\n",
       "      <td>167013.0</td>\n",
       "      <td>2009.1</td>\n",
       "      <td>2025.6</td>\n",
       "      <td>2007.7</td>\n",
       "    </tr>\n",
       "    <tr>\n",
       "      <th>2</th>\n",
       "      <td>2</td>\n",
       "      <td>2024-01-17</td>\n",
       "      <td>2006.5</td>\n",
       "      <td>245194.0</td>\n",
       "      <td>2031.7</td>\n",
       "      <td>2036.1</td>\n",
       "      <td>2004.6</td>\n",
       "    </tr>\n",
       "    <tr>\n",
       "      <th>3</th>\n",
       "      <td>3</td>\n",
       "      <td>2024-01-16</td>\n",
       "      <td>2030.2</td>\n",
       "      <td>277995.0</td>\n",
       "      <td>2053.4</td>\n",
       "      <td>2062.8</td>\n",
       "      <td>2027.6</td>\n",
       "    </tr>\n",
       "    <tr>\n",
       "      <th>4</th>\n",
       "      <td>4</td>\n",
       "      <td>2024-01-12</td>\n",
       "      <td>2051.6</td>\n",
       "      <td>250946.0</td>\n",
       "      <td>2033.2</td>\n",
       "      <td>2067.3</td>\n",
       "      <td>2033.1</td>\n",
       "    </tr>\n",
       "  </tbody>\n",
       "</table>\n",
       "</div>"
      ],
      "text/plain": [
       "   Unnamed: 0        Date   Close    Volume    Open    High     Low\n",
       "0           0  2024-01-19  2029.3  166078.0  2027.4  2041.9  2022.2\n",
       "1           1  2024-01-18  2021.6  167013.0  2009.1  2025.6  2007.7\n",
       "2           2  2024-01-17  2006.5  245194.0  2031.7  2036.1  2004.6\n",
       "3           3  2024-01-16  2030.2  277995.0  2053.4  2062.8  2027.6\n",
       "4           4  2024-01-12  2051.6  250946.0  2033.2  2067.3  2033.1"
      ]
     },
     "execution_count": 7,
     "metadata": {},
     "output_type": "execute_result"
    }
   ],
   "source": [
    "data.head()"
   ]
  },
  {
   "cell_type": "code",
   "execution_count": 8,
   "id": "53725ba7",
   "metadata": {},
   "outputs": [
    {
     "data": {
      "text/plain": [
       "Index(['Unnamed: 0', 'Date', 'Close', 'Volume', 'Open', 'High', 'Low'], dtype='object')"
      ]
     },
     "execution_count": 8,
     "metadata": {},
     "output_type": "execute_result"
    }
   ],
   "source": [
    "data.columns"
   ]
  },
  {
   "cell_type": "code",
   "execution_count": 9,
   "id": "0a8a0d76",
   "metadata": {},
   "outputs": [
    {
     "data": {
      "text/html": [
       "<div>\n",
       "<style scoped>\n",
       "    .dataframe tbody tr th:only-of-type {\n",
       "        vertical-align: middle;\n",
       "    }\n",
       "\n",
       "    .dataframe tbody tr th {\n",
       "        vertical-align: top;\n",
       "    }\n",
       "\n",
       "    .dataframe thead th {\n",
       "        text-align: right;\n",
       "    }\n",
       "</style>\n",
       "<table border=\"1\" class=\"dataframe\">\n",
       "  <thead>\n",
       "    <tr style=\"text-align: right;\">\n",
       "      <th></th>\n",
       "      <th>Date</th>\n",
       "      <th>Volume</th>\n",
       "      <th>Open</th>\n",
       "      <th>Close</th>\n",
       "      <th>High</th>\n",
       "      <th>Low</th>\n",
       "    </tr>\n",
       "  </thead>\n",
       "  <tbody>\n",
       "    <tr>\n",
       "      <th>0</th>\n",
       "      <td>2024-01-19</td>\n",
       "      <td>166078.0</td>\n",
       "      <td>2027.4</td>\n",
       "      <td>2029.3</td>\n",
       "      <td>2041.9</td>\n",
       "      <td>2022.2</td>\n",
       "    </tr>\n",
       "    <tr>\n",
       "      <th>1</th>\n",
       "      <td>2024-01-18</td>\n",
       "      <td>167013.0</td>\n",
       "      <td>2009.1</td>\n",
       "      <td>2021.6</td>\n",
       "      <td>2025.6</td>\n",
       "      <td>2007.7</td>\n",
       "    </tr>\n",
       "    <tr>\n",
       "      <th>2</th>\n",
       "      <td>2024-01-17</td>\n",
       "      <td>245194.0</td>\n",
       "      <td>2031.7</td>\n",
       "      <td>2006.5</td>\n",
       "      <td>2036.1</td>\n",
       "      <td>2004.6</td>\n",
       "    </tr>\n",
       "    <tr>\n",
       "      <th>3</th>\n",
       "      <td>2024-01-16</td>\n",
       "      <td>277995.0</td>\n",
       "      <td>2053.4</td>\n",
       "      <td>2030.2</td>\n",
       "      <td>2062.8</td>\n",
       "      <td>2027.6</td>\n",
       "    </tr>\n",
       "    <tr>\n",
       "      <th>4</th>\n",
       "      <td>2024-01-12</td>\n",
       "      <td>250946.0</td>\n",
       "      <td>2033.2</td>\n",
       "      <td>2051.6</td>\n",
       "      <td>2067.3</td>\n",
       "      <td>2033.1</td>\n",
       "    </tr>\n",
       "    <tr>\n",
       "      <th>...</th>\n",
       "      <td>...</td>\n",
       "      <td>...</td>\n",
       "      <td>...</td>\n",
       "      <td>...</td>\n",
       "      <td>...</td>\n",
       "      <td>...</td>\n",
       "    </tr>\n",
       "    <tr>\n",
       "      <th>2506</th>\n",
       "      <td>2014-01-28</td>\n",
       "      <td>81426.0</td>\n",
       "      <td>1254.9</td>\n",
       "      <td>1250.5</td>\n",
       "      <td>1261.9</td>\n",
       "      <td>1248.0</td>\n",
       "    </tr>\n",
       "    <tr>\n",
       "      <th>2507</th>\n",
       "      <td>2014-01-27</td>\n",
       "      <td>63419.0</td>\n",
       "      <td>1269.9</td>\n",
       "      <td>1263.5</td>\n",
       "      <td>1280.1</td>\n",
       "      <td>1252.0</td>\n",
       "    </tr>\n",
       "    <tr>\n",
       "      <th>2508</th>\n",
       "      <td>2014-01-24</td>\n",
       "      <td>34998.0</td>\n",
       "      <td>1264.3</td>\n",
       "      <td>1264.5</td>\n",
       "      <td>1273.2</td>\n",
       "      <td>1256.9</td>\n",
       "    </tr>\n",
       "    <tr>\n",
       "      <th>2509</th>\n",
       "      <td>2014-01-23</td>\n",
       "      <td>41697.0</td>\n",
       "      <td>1235.1</td>\n",
       "      <td>1262.5</td>\n",
       "      <td>1267.1</td>\n",
       "      <td>1230.8</td>\n",
       "    </tr>\n",
       "    <tr>\n",
       "      <th>2510</th>\n",
       "      <td>2014-01-22</td>\n",
       "      <td>80262.0</td>\n",
       "      <td>1240.5</td>\n",
       "      <td>1238.6</td>\n",
       "      <td>1243.5</td>\n",
       "      <td>1235.5</td>\n",
       "    </tr>\n",
       "  </tbody>\n",
       "</table>\n",
       "<p>2511 rows × 6 columns</p>\n",
       "</div>"
      ],
      "text/plain": [
       "            Date    Volume    Open   Close    High     Low\n",
       "0     2024-01-19  166078.0  2027.4  2029.3  2041.9  2022.2\n",
       "1     2024-01-18  167013.0  2009.1  2021.6  2025.6  2007.7\n",
       "2     2024-01-17  245194.0  2031.7  2006.5  2036.1  2004.6\n",
       "3     2024-01-16  277995.0  2053.4  2030.2  2062.8  2027.6\n",
       "4     2024-01-12  250946.0  2033.2  2051.6  2067.3  2033.1\n",
       "...          ...       ...     ...     ...     ...     ...\n",
       "2506  2014-01-28   81426.0  1254.9  1250.5  1261.9  1248.0\n",
       "2507  2014-01-27   63419.0  1269.9  1263.5  1280.1  1252.0\n",
       "2508  2014-01-24   34998.0  1264.3  1264.5  1273.2  1256.9\n",
       "2509  2014-01-23   41697.0  1235.1  1262.5  1267.1  1230.8\n",
       "2510  2014-01-22   80262.0  1240.5  1238.6  1243.5  1235.5\n",
       "\n",
       "[2511 rows x 6 columns]"
      ]
     },
     "execution_count": 9,
     "metadata": {},
     "output_type": "execute_result"
    }
   ],
   "source": [
    "data = data[['Date', 'Volume', 'Open', 'Close', 'High', 'Low']]\n",
    "data"
   ]
  },
  {
   "cell_type": "code",
   "execution_count": 10,
   "id": "7786617b",
   "metadata": {},
   "outputs": [
    {
     "name": "stdout",
     "output_type": "stream",
     "text": [
      "<class 'pandas.core.frame.DataFrame'>\n",
      "RangeIndex: 2511 entries, 0 to 2510\n",
      "Data columns (total 6 columns):\n",
      " #   Column  Non-Null Count  Dtype  \n",
      "---  ------  --------------  -----  \n",
      " 0   Date    2511 non-null   object \n",
      " 1   Volume  2511 non-null   float64\n",
      " 2   Open    2511 non-null   float64\n",
      " 3   Close   2511 non-null   float64\n",
      " 4   High    2511 non-null   float64\n",
      " 5   Low     2511 non-null   float64\n",
      "dtypes: float64(5), object(1)\n",
      "memory usage: 117.8+ KB\n"
     ]
    }
   ],
   "source": [
    "data.info()"
   ]
  },
  {
   "cell_type": "code",
   "execution_count": null,
   "id": "1b1bdc03",
   "metadata": {},
   "outputs": [],
   "source": []
  }
 ],
 "metadata": {
  "kernelspec": {
   "display_name": "Python 3 (ipykernel)",
   "language": "python",
   "name": "python3"
  },
  "language_info": {
   "codemirror_mode": {
    "name": "ipython",
    "version": 3
   },
   "file_extension": ".py",
   "mimetype": "text/x-python",
   "name": "python",
   "nbconvert_exporter": "python",
   "pygments_lexer": "ipython3",
   "version": "3.11.4"
  }
 },
 "nbformat": 4,
 "nbformat_minor": 5
}

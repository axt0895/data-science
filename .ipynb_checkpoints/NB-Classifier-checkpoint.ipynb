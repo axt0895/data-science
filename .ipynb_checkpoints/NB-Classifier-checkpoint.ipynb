{
 "cells": [
  {
   "cell_type": "markdown",
   "id": "e67fb6de",
   "metadata": {},
   "source": [
    "Here are all the imports that we will use:\n",
    ">- Numpy - for storing of arrays\n",
    ">- Pandas - for dataframe manipulation\n",
    ">- Sklearn - for preprocessing, splitting into train and test, training the model and predicting on new instances and performing metrics"
   ]
  },
  {
   "cell_type": "code",
   "execution_count": 1,
   "id": "c69d86ff",
   "metadata": {},
   "outputs": [],
   "source": [
    "%matplotlib inline\n",
    "import numpy as np\n",
    "import pandas as pd\n",
    "import matplotlib as mpl\n",
    "import matplotlib.pyplot as plt\n",
    "import seaborn as sns\n",
    "\n",
    "from pandas import Series, DataFrame\n",
    "from sklearn.naive_bayes import GaussianNB\n",
    "from sklearn.preprocessing import StandardScaler\n",
    "from sklearn.feature_extraction.text import CountVectorizer\n",
    "from sklearn.model_selection import train_test_split\n",
    "from sklearn.metrics import accuracy_score, confusion_matrix, classification_report, ConfusionMatrixDisplay"
   ]
  },
  {
   "cell_type": "markdown",
   "id": "4c9269d8",
   "metadata": {},
   "source": [
    "Loading the csv file into dataframe"
   ]
  },
  {
   "cell_type": "code",
   "execution_count": 2,
   "id": "6226f631",
   "metadata": {},
   "outputs": [],
   "source": [
    "df = pd.read_csv('/Users/anilthapa/Downloads/dataset_NB.csv')"
   ]
  },
  {
   "cell_type": "markdown",
   "id": "2e67408d",
   "metadata": {},
   "source": [
    "### Preprocessing "
   ]
  },
  {
   "cell_type": "code",
   "execution_count": 3,
   "id": "5e172739",
   "metadata": {},
   "outputs": [
    {
     "data": {
      "text/html": [
       "<div>\n",
       "<style scoped>\n",
       "    .dataframe tbody tr th:only-of-type {\n",
       "        vertical-align: middle;\n",
       "    }\n",
       "\n",
       "    .dataframe tbody tr th {\n",
       "        vertical-align: top;\n",
       "    }\n",
       "\n",
       "    .dataframe thead th {\n",
       "        text-align: right;\n",
       "    }\n",
       "</style>\n",
       "<table border=\"1\" class=\"dataframe\">\n",
       "  <thead>\n",
       "    <tr style=\"text-align: right;\">\n",
       "      <th></th>\n",
       "      <th>email</th>\n",
       "      <th>label</th>\n",
       "    </tr>\n",
       "  </thead>\n",
       "  <tbody>\n",
       "    <tr>\n",
       "      <th>0</th>\n",
       "      <td>date wed NUMBER aug NUMBER NUMBER NUMBER NUMB...</td>\n",
       "      <td>0</td>\n",
       "    </tr>\n",
       "    <tr>\n",
       "      <th>1</th>\n",
       "      <td>martin a posted tassos papadopoulos the greek ...</td>\n",
       "      <td>0</td>\n",
       "    </tr>\n",
       "    <tr>\n",
       "      <th>2</th>\n",
       "      <td>man threatens explosion in moscow thursday aug...</td>\n",
       "      <td>0</td>\n",
       "    </tr>\n",
       "    <tr>\n",
       "      <th>3</th>\n",
       "      <td>klez the virus that won t die already the most...</td>\n",
       "      <td>0</td>\n",
       "    </tr>\n",
       "    <tr>\n",
       "      <th>4</th>\n",
       "      <td>in adding cream to spaghetti carbonara which ...</td>\n",
       "      <td>0</td>\n",
       "    </tr>\n",
       "    <tr>\n",
       "      <th>5</th>\n",
       "      <td>i just had to jump in here as carbonara is on...</td>\n",
       "      <td>0</td>\n",
       "    </tr>\n",
       "    <tr>\n",
       "      <th>6</th>\n",
       "      <td>the scotsman NUMBER august NUMBER playboy want...</td>\n",
       "      <td>0</td>\n",
       "    </tr>\n",
       "    <tr>\n",
       "      <th>7</th>\n",
       "      <td>martin adamson wrote isn t it just basically a...</td>\n",
       "      <td>0</td>\n",
       "    </tr>\n",
       "    <tr>\n",
       "      <th>8</th>\n",
       "      <td>the scotsman thu NUMBER aug NUMBER meaningful ...</td>\n",
       "      <td>0</td>\n",
       "    </tr>\n",
       "    <tr>\n",
       "      <th>9</th>\n",
       "      <td>i have been trying to research via sa mirrors ...</td>\n",
       "      <td>0</td>\n",
       "    </tr>\n",
       "  </tbody>\n",
       "</table>\n",
       "</div>"
      ],
      "text/plain": [
       "                                               email  label\n",
       "0   date wed NUMBER aug NUMBER NUMBER NUMBER NUMB...      0\n",
       "1  martin a posted tassos papadopoulos the greek ...      0\n",
       "2  man threatens explosion in moscow thursday aug...      0\n",
       "3  klez the virus that won t die already the most...      0\n",
       "4   in adding cream to spaghetti carbonara which ...      0\n",
       "5   i just had to jump in here as carbonara is on...      0\n",
       "6  the scotsman NUMBER august NUMBER playboy want...      0\n",
       "7  martin adamson wrote isn t it just basically a...      0\n",
       "8  the scotsman thu NUMBER aug NUMBER meaningful ...      0\n",
       "9  i have been trying to research via sa mirrors ...      0"
      ]
     },
     "execution_count": 3,
     "metadata": {},
     "output_type": "execute_result"
    }
   ],
   "source": [
    "df.head(10)"
   ]
  },
  {
   "cell_type": "markdown",
   "id": "345cdb68",
   "metadata": {},
   "source": [
    "Checking the dimension of the input features"
   ]
  },
  {
   "cell_type": "code",
   "execution_count": 4,
   "id": "6d78ec7e",
   "metadata": {},
   "outputs": [
    {
     "data": {
      "text/plain": [
       "(3000, 2)"
      ]
     },
     "execution_count": 4,
     "metadata": {},
     "output_type": "execute_result"
    }
   ],
   "source": [
    "df.shape"
   ]
  },
  {
   "cell_type": "markdown",
   "id": "e6526c1e",
   "metadata": {},
   "source": [
    "Getting general insights into the data"
   ]
  },
  {
   "cell_type": "code",
   "execution_count": 5,
   "id": "14f47dac",
   "metadata": {},
   "outputs": [
    {
     "name": "stdout",
     "output_type": "stream",
     "text": [
      "<class 'pandas.core.frame.DataFrame'>\n",
      "RangeIndex: 3000 entries, 0 to 2999\n",
      "Data columns (total 2 columns):\n",
      " #   Column  Non-Null Count  Dtype \n",
      "---  ------  --------------  ----- \n",
      " 0   email   2999 non-null   object\n",
      " 1   label   3000 non-null   int64 \n",
      "dtypes: int64(1), object(1)\n",
      "memory usage: 47.0+ KB\n"
     ]
    }
   ],
   "source": [
    "df.info()"
   ]
  },
  {
   "cell_type": "markdown",
   "id": "57889d80",
   "metadata": {},
   "source": [
    "Checking if there exists any null values in the input features"
   ]
  },
  {
   "cell_type": "code",
   "execution_count": 6,
   "id": "2fae7e23",
   "metadata": {},
   "outputs": [
    {
     "data": {
      "text/plain": [
       "email     True\n",
       "label    False\n",
       "dtype: bool"
      ]
     },
     "execution_count": 6,
     "metadata": {},
     "output_type": "execute_result"
    }
   ],
   "source": [
    "df.isnull().any()"
   ]
  },
  {
   "cell_type": "markdown",
   "id": "defbe960",
   "metadata": {},
   "source": [
    "Getting to know the null values. There exists only one "
   ]
  },
  {
   "cell_type": "code",
   "execution_count": 7,
   "id": "350c06f1",
   "metadata": {},
   "outputs": [
    {
     "data": {
      "text/html": [
       "<div>\n",
       "<style scoped>\n",
       "    .dataframe tbody tr th:only-of-type {\n",
       "        vertical-align: middle;\n",
       "    }\n",
       "\n",
       "    .dataframe tbody tr th {\n",
       "        vertical-align: top;\n",
       "    }\n",
       "\n",
       "    .dataframe thead th {\n",
       "        text-align: right;\n",
       "    }\n",
       "</style>\n",
       "<table border=\"1\" class=\"dataframe\">\n",
       "  <thead>\n",
       "    <tr style=\"text-align: right;\">\n",
       "      <th></th>\n",
       "      <th>email</th>\n",
       "      <th>label</th>\n",
       "    </tr>\n",
       "  </thead>\n",
       "  <tbody>\n",
       "    <tr>\n",
       "      <th>2966</th>\n",
       "      <td>NaN</td>\n",
       "      <td>1</td>\n",
       "    </tr>\n",
       "  </tbody>\n",
       "</table>\n",
       "</div>"
      ],
      "text/plain": [
       "     email  label\n",
       "2966   NaN      1"
      ]
     },
     "execution_count": 7,
     "metadata": {},
     "output_type": "execute_result"
    }
   ],
   "source": [
    "df[df.isna().any(axis = 1)]"
   ]
  },
  {
   "cell_type": "markdown",
   "id": "e38331ba",
   "metadata": {},
   "source": [
    "Dropping the null values, because there is only one. "
   ]
  },
  {
   "cell_type": "code",
   "execution_count": 8,
   "id": "abe95cd8",
   "metadata": {},
   "outputs": [],
   "source": [
    "df.dropna(inplace=True)"
   ]
  },
  {
   "cell_type": "markdown",
   "id": "f7114385",
   "metadata": {},
   "source": [
    "A final check if we have dropped the null values or not."
   ]
  },
  {
   "cell_type": "code",
   "execution_count": 9,
   "id": "dd6c82dc",
   "metadata": {},
   "outputs": [
    {
     "data": {
      "text/plain": [
       "email    False\n",
       "label    False\n",
       "dtype: bool"
      ]
     },
     "execution_count": 9,
     "metadata": {},
     "output_type": "execute_result"
    }
   ],
   "source": [
    "df.isna().any()"
   ]
  },
  {
   "cell_type": "markdown",
   "id": "bf89a7b0",
   "metadata": {},
   "source": [
    "Checking whether the dataset is balanced or not. It seems that the dataset is imbalanced"
   ]
  },
  {
   "cell_type": "code",
   "execution_count": 10,
   "id": "9a9dd30a",
   "metadata": {
    "scrolled": true
   },
   "outputs": [
    {
     "data": {
      "text/plain": [
       "label\n",
       "0    2500\n",
       "1     499\n",
       "Name: count, dtype: int64"
      ]
     },
     "execution_count": 10,
     "metadata": {},
     "output_type": "execute_result"
    }
   ],
   "source": [
    "df.label.value_counts()"
   ]
  },
  {
   "cell_type": "markdown",
   "id": "2ad45cb1",
   "metadata": {},
   "source": [
    "Now, we have a single input feature, which is a line of text. We cannot directly feed this input and train the model. Thus, we need some kind of preprocessing. Here we use CountVectorizer from sklearn.feature_extraction.text. The CountVectorizer converts the text data into numerical features vector representing the frequency of each word in a text."
   ]
  },
  {
   "cell_type": "code",
   "execution_count": 11,
   "id": "f6237c66",
   "metadata": {},
   "outputs": [],
   "source": [
    "vectorizer = CountVectorizer()"
   ]
  },
  {
   "cell_type": "code",
   "execution_count": 12,
   "id": "6137989c",
   "metadata": {},
   "outputs": [],
   "source": [
    "X_bow = vectorizer.fit_transform(df['email']).toarray()\n",
    "y = df['label']"
   ]
  },
  {
   "cell_type": "code",
   "execution_count": 13,
   "id": "76000640",
   "metadata": {},
   "outputs": [
    {
     "data": {
      "text/plain": [
       "(2999, 34116)"
      ]
     },
     "execution_count": 13,
     "metadata": {},
     "output_type": "execute_result"
    }
   ],
   "source": [
    "X_bow.shape"
   ]
  },
  {
   "cell_type": "markdown",
   "id": "c42ca7e8",
   "metadata": {},
   "source": [
    "### Train Test Split"
   ]
  },
  {
   "cell_type": "markdown",
   "id": "6f478f78",
   "metadata": {},
   "source": [
    "Using train_test_split from sklearn.preprocessing to split our dataset for training and testing purposes. We have set training size of 80% here and a random state of 42."
   ]
  },
  {
   "cell_type": "code",
   "execution_count": 14,
   "id": "89ec3cce",
   "metadata": {},
   "outputs": [],
   "source": [
    "X_train, X_test, y_train, y_test = train_test_split(X_bow, y, random_state=42, train_size=0.8)"
   ]
  },
  {
   "cell_type": "markdown",
   "id": "300a105d",
   "metadata": {},
   "source": [
    "### Train the model"
   ]
  },
  {
   "cell_type": "markdown",
   "id": "022005bf",
   "metadata": {},
   "source": [
    "Here we train our model. Our model is GaussianNB. We created an instance of Gaussian Naive Bayes Classifier. Then we fit our model. X_train is the training feature with a size of (2999, 34116) and y_train is the testing feature with size (2999,). After fitting our model, we predict on new unseen features using our trained classifier. "
   ]
  },
  {
   "cell_type": "code",
   "execution_count": 15,
   "id": "a601513b",
   "metadata": {},
   "outputs": [],
   "source": [
    "gaussian_NB = GaussianNB()"
   ]
  },
  {
   "cell_type": "code",
   "execution_count": 16,
   "id": "88c22a1e",
   "metadata": {},
   "outputs": [
    {
     "data": {
      "text/html": [
       "<style>#sk-container-id-1 {color: black;background-color: white;}#sk-container-id-1 pre{padding: 0;}#sk-container-id-1 div.sk-toggleable {background-color: white;}#sk-container-id-1 label.sk-toggleable__label {cursor: pointer;display: block;width: 100%;margin-bottom: 0;padding: 0.3em;box-sizing: border-box;text-align: center;}#sk-container-id-1 label.sk-toggleable__label-arrow:before {content: \"▸\";float: left;margin-right: 0.25em;color: #696969;}#sk-container-id-1 label.sk-toggleable__label-arrow:hover:before {color: black;}#sk-container-id-1 div.sk-estimator:hover label.sk-toggleable__label-arrow:before {color: black;}#sk-container-id-1 div.sk-toggleable__content {max-height: 0;max-width: 0;overflow: hidden;text-align: left;background-color: #f0f8ff;}#sk-container-id-1 div.sk-toggleable__content pre {margin: 0.2em;color: black;border-radius: 0.25em;background-color: #f0f8ff;}#sk-container-id-1 input.sk-toggleable__control:checked~div.sk-toggleable__content {max-height: 200px;max-width: 100%;overflow: auto;}#sk-container-id-1 input.sk-toggleable__control:checked~label.sk-toggleable__label-arrow:before {content: \"▾\";}#sk-container-id-1 div.sk-estimator input.sk-toggleable__control:checked~label.sk-toggleable__label {background-color: #d4ebff;}#sk-container-id-1 div.sk-label input.sk-toggleable__control:checked~label.sk-toggleable__label {background-color: #d4ebff;}#sk-container-id-1 input.sk-hidden--visually {border: 0;clip: rect(1px 1px 1px 1px);clip: rect(1px, 1px, 1px, 1px);height: 1px;margin: -1px;overflow: hidden;padding: 0;position: absolute;width: 1px;}#sk-container-id-1 div.sk-estimator {font-family: monospace;background-color: #f0f8ff;border: 1px dotted black;border-radius: 0.25em;box-sizing: border-box;margin-bottom: 0.5em;}#sk-container-id-1 div.sk-estimator:hover {background-color: #d4ebff;}#sk-container-id-1 div.sk-parallel-item::after {content: \"\";width: 100%;border-bottom: 1px solid gray;flex-grow: 1;}#sk-container-id-1 div.sk-label:hover label.sk-toggleable__label {background-color: #d4ebff;}#sk-container-id-1 div.sk-serial::before {content: \"\";position: absolute;border-left: 1px solid gray;box-sizing: border-box;top: 0;bottom: 0;left: 50%;z-index: 0;}#sk-container-id-1 div.sk-serial {display: flex;flex-direction: column;align-items: center;background-color: white;padding-right: 0.2em;padding-left: 0.2em;position: relative;}#sk-container-id-1 div.sk-item {position: relative;z-index: 1;}#sk-container-id-1 div.sk-parallel {display: flex;align-items: stretch;justify-content: center;background-color: white;position: relative;}#sk-container-id-1 div.sk-item::before, #sk-container-id-1 div.sk-parallel-item::before {content: \"\";position: absolute;border-left: 1px solid gray;box-sizing: border-box;top: 0;bottom: 0;left: 50%;z-index: -1;}#sk-container-id-1 div.sk-parallel-item {display: flex;flex-direction: column;z-index: 1;position: relative;background-color: white;}#sk-container-id-1 div.sk-parallel-item:first-child::after {align-self: flex-end;width: 50%;}#sk-container-id-1 div.sk-parallel-item:last-child::after {align-self: flex-start;width: 50%;}#sk-container-id-1 div.sk-parallel-item:only-child::after {width: 0;}#sk-container-id-1 div.sk-dashed-wrapped {border: 1px dashed gray;margin: 0 0.4em 0.5em 0.4em;box-sizing: border-box;padding-bottom: 0.4em;background-color: white;}#sk-container-id-1 div.sk-label label {font-family: monospace;font-weight: bold;display: inline-block;line-height: 1.2em;}#sk-container-id-1 div.sk-label-container {text-align: center;}#sk-container-id-1 div.sk-container {/* jupyter's `normalize.less` sets `[hidden] { display: none; }` but bootstrap.min.css set `[hidden] { display: none !important; }` so we also need the `!important` here to be able to override the default hidden behavior on the sphinx rendered scikit-learn.org. See: https://github.com/scikit-learn/scikit-learn/issues/21755 */display: inline-block !important;position: relative;}#sk-container-id-1 div.sk-text-repr-fallback {display: none;}</style><div id=\"sk-container-id-1\" class=\"sk-top-container\"><div class=\"sk-text-repr-fallback\"><pre>GaussianNB()</pre><b>In a Jupyter environment, please rerun this cell to show the HTML representation or trust the notebook. <br />On GitHub, the HTML representation is unable to render, please try loading this page with nbviewer.org.</b></div><div class=\"sk-container\" hidden><div class=\"sk-item\"><div class=\"sk-estimator sk-toggleable\"><input class=\"sk-toggleable__control sk-hidden--visually\" id=\"sk-estimator-id-1\" type=\"checkbox\" checked><label for=\"sk-estimator-id-1\" class=\"sk-toggleable__label sk-toggleable__label-arrow\">GaussianNB</label><div class=\"sk-toggleable__content\"><pre>GaussianNB()</pre></div></div></div></div></div>"
      ],
      "text/plain": [
       "GaussianNB()"
      ]
     },
     "execution_count": 16,
     "metadata": {},
     "output_type": "execute_result"
    }
   ],
   "source": [
    "gaussian_NB.fit(X_train, y_train)"
   ]
  },
  {
   "cell_type": "code",
   "execution_count": 17,
   "id": "d4312383",
   "metadata": {},
   "outputs": [],
   "source": [
    "y_predict = gaussian_NB.predict(X_test)"
   ]
  },
  {
   "cell_type": "markdown",
   "id": "2dd3747e",
   "metadata": {},
   "source": [
    "### Metrics"
   ]
  },
  {
   "cell_type": "markdown",
   "id": "afa0c825",
   "metadata": {},
   "source": [
    "Computing the accuracy score:\n",
    "> y_predict: the prediction by our trained classifier\\\n",
    " y_test: the actual label from dataset"
   ]
  },
  {
   "cell_type": "code",
   "execution_count": 18,
   "id": "fce7384c",
   "metadata": {},
   "outputs": [
    {
     "name": "stdout",
     "output_type": "stream",
     "text": [
      "Accuracy Score:  0.9583333333333334\n"
     ]
    }
   ],
   "source": [
    "accuracy_score = accuracy_score(y_test, y_predict)\n",
    "print('Accuracy Score: ',accuracy_score)"
   ]
  },
  {
   "cell_type": "markdown",
   "id": "a433c2b3",
   "metadata": {},
   "source": [
    "Computing the classification report. \n",
    "> The first column is precision score which tells us how accurate the model is when predicting the classes\\\n",
    "> The second column is recall score which tells us how well the model can capture the relevant instances of a particulat category\\\n",
    "> The third column is F1-score is a harmonic mean of precision score and Recall score\\\n",
    "> The fourth column is support which represents the count of true labels in dataset\\\n",
    "> The first row represents the 0 label and second row represents the 1 label\\\n",
    "> The macro avg represents the unweighted  average and weight avg represent the weighted average of the three metrics: precision, recall and F1-score"
   ]
  },
  {
   "cell_type": "code",
   "execution_count": 19,
   "id": "1bf7076b",
   "metadata": {
    "scrolled": true
   },
   "outputs": [
    {
     "name": "stdout",
     "output_type": "stream",
     "text": [
      "Classification Report:               precision    recall  f1-score   support\n",
      "\n",
      "           0       0.98      0.97      0.98       507\n",
      "           1       0.84      0.90      0.87        93\n",
      "\n",
      "    accuracy                           0.96       600\n",
      "   macro avg       0.91      0.94      0.92       600\n",
      "weighted avg       0.96      0.96      0.96       600\n",
      "\n"
     ]
    }
   ],
   "source": [
    "classification_report = classification_report(y_predict, y_test)\n",
    "print('Classification Report:', classification_report)"
   ]
  },
  {
   "cell_type": "markdown",
   "id": "e6d0c9d0",
   "metadata": {},
   "source": [
    "Computing the confusion Matrix:\n",
    "> Below is the confusion matrix\n",
    "> \n"
   ]
  },
  {
   "cell_type": "code",
   "execution_count": 20,
   "id": "2ef2f398",
   "metadata": {
    "scrolled": false
   },
   "outputs": [
    {
     "name": "stdout",
     "output_type": "stream",
     "text": [
      "Confusion Matrix: [[491  16]\n",
      " [  9  84]]\n"
     ]
    },
    {
     "data": {
      "text/plain": [
       "<Figure size 800x600 with 0 Axes>"
      ]
     },
     "metadata": {},
     "output_type": "display_data"
    },
    {
     "data": {
      "image/png": "[encoded data removed]",
      "text/plain": [
       "<Figure size 640x480 with 2 Axes>"
      ]
     },
     "metadata": {},
     "output_type": "display_data"
    }
   ],
   "source": [
    "confusion_matrix = confusion_matrix(y_predict, y_test, labels=gaussian_NB.classes_)\n",
    "print('Confusion Matrix:', confusion_matrix)\n",
    "\n",
    "plt.figure(figsize = (8,6))\n",
    "c_matrix = ConfusionMatrixDisplay(confusion_matrix, display_labels=gaussian_NB.classes_)\n",
    "c_matrix.plot(cmap='Blues')\n",
    "plt.show()"
   ]
  },
  {
   "cell_type": "markdown",
   "id": "34a00ade",
   "metadata": {},
   "source": [
    "Here, we have a comprehensive evaluation tool, known as confusion matrix, to assess the effectiveness of classification model. It consists of a 2-by-2 grid, which each row represents the true labels and each column represents the predicted label. Within the matrix:\n",
    "> (0, 0) - True Negative: These are the cases where the model correctly predicts the Negative class.\\\n",
    "> (0, 1)  - False Positive: These are the cases where the model predicted positive class, but the actual class was negative.\\\n",
    "> (1, 0) - False Negative:These are the cases where the model predicted negative class, but the actual class was positive.\\\n",
    "> (1, 1) - True Positive: These are the cases where the model correctly predicts the positive class."
   ]
  }
 ],
 "metadata": {
  "kernelspec": {
   "display_name": "Python 3 (ipykernel)",
   "language": "python",
   "name": "python3"
  },
  "language_info": {
   "codemirror_mode": {
    "name": "ipython",
    "version": 3
   },
   "file_extension": ".py",
   "mimetype": "text/x-python",
   "name": "python",
   "nbconvert_exporter": "python",
   "pygments_lexer": "ipython3",
   "version": "3.11.4"
  }
 },
 "nbformat": 4,
 "nbformat_minor": 5
}

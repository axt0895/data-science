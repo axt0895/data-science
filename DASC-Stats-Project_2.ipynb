{
 "cells": [
  {
   "cell_type": "markdown",
   "id": "2a316a49",
   "metadata": {},
   "source": [
    "The data measured is the inter arrival time of a customer to a USPS location (1975 Ballpark Way, Arlington, TX, 76006)\n",
    "\n",
    "The data is measured in seconds i.e. the length of the inter-arrival time is measured in minutes\n",
    "\n",
    "The number of instances is 113"
   ]
  },
  {
   "cell_type": "code",
   "execution_count": 3,
   "id": "14155c95",
   "metadata": {},
   "outputs": [],
   "source": [
    "%matplotlib inline\n",
    "import numpy as np\n",
    "import pandas as pd\n",
    "import matplotlib.pyplot as plt\n",
    "import seaborn as sns\n",
    "\n",
    "from pandas import Series, DataFrame\n",
    "\n",
    "plt.style.use('seaborn-v0_8')"
   ]
  },
  {
   "cell_type": "code",
   "execution_count": 1,
   "id": "1a4a2569",
   "metadata": {},
   "outputs": [],
   "source": [
    "scal2 = 2.0"
   ]
  },
  {
   "cell_type": "code",
   "execution_count": 11,
   "id": "61b5ac7e",
   "metadata": {
    "scrolled": true
   },
   "outputs": [
    {
     "data": {
      "text/plain": [
       "array([0.92, 0.88, 2.01, 4.7 , 2.32, 2.94, 2.94, 0.36, 2.95, 5.93, 1.43,\n",
       "       6.32, 4.18, 0.61, 0.16, 0.11, 2.49, 2.6 , 1.96, 2.15, 0.42, 3.82,\n",
       "       0.6 , 0.14, 6.58, 0.28, 9.13, 0.81, 0.35, 0.55, 0.16, 0.68, 1.18,\n",
       "       1.18, 1.22, 1.76, 0.19, 4.33, 2.71, 1.33, 0.65, 4.99, 2.57, 0.37,\n",
       "       1.23, 1.78, 1.22, 1.31, 0.74, 0.36, 1.76, 2.7 , 0.67, 0.4 , 1.77,\n",
       "       1.5 , 0.86, 0.26, 0.53, 0.58, 3.27, 0.16, 0.04, 0.68, 0.22, 2.87,\n",
       "       2.37, 3.27, 0.91, 0.28, 0.37, 1.59, 1.04, 0.55, 0.91, 1.85, 0.66,\n",
       "       0.28, 0.83, 1.35, 0.54, 2.44, 5.57, 0.1 , 0.9 , 0.6 , 0.06, 0.5 ,\n",
       "       1.66, 3.71, 0.85, 1.91, 0.5 , 2.26, 2.57, 0.83, 2.16, 4.81, 1.74,\n",
       "       0.04, 2.06, 2.  , 2.43, 0.77, 4.49, 1.59, 0.56, 1.5 , 1.51, 0.36,\n",
       "       0.11, 2.05, 4.4 ])"
      ]
     },
     "execution_count": 11,
     "metadata": {},
     "output_type": "execute_result"
    }
   ],
   "source": [
    "random_values"
   ]
  },
  {
   "cell_type": "code",
   "execution_count": 71,
   "id": "14cb72e6",
   "metadata": {},
   "outputs": [],
   "source": [
    "n = random_values"
   ]
  },
  {
   "cell_type": "code",
   "execution_count": 72,
   "id": "32651718",
   "metadata": {},
   "outputs": [
    {
     "name": "stdout",
     "output_type": "stream",
     "text": [
      "Mean: 1.71\n",
      "Variance: 2.67\n",
      "Standard Deviation: 1.63\n"
     ]
    }
   ],
   "source": [
    "mean = np.mean(n)\n",
    "variance = np.var(n)\n",
    "standard_deviation = np.std(n)\n",
    "print(f'Mean: {mean:.2f}')\n",
    "print(f'Variance: {variance:.2f}')\n",
    "print(f'Standard Deviation: {standard_deviation:.2f}')"
   ]
  },
  {
   "cell_type": "code",
   "execution_count": 73,
   "id": "89af7b56",
   "metadata": {},
   "outputs": [
    {
     "name": "stdout",
     "output_type": "stream",
     "text": [
      "Quartiles:\n",
      "Q1 (25th percentile)\t\t: 0.55\n",
      "Q2 (50th percentile, median)\t: 1.22\n",
      "Q3 (75th percentile)\t\t: 2.37\n"
     ]
    }
   ],
   "source": [
    "print('Quartiles:')\n",
    "Q1 = np.percentile(n, 25)\n",
    "Q2 = np.percentile(n, 50)\n",
    "Q3 = np.percentile(n, 75)\n",
    "# Print the quartile values\n",
    "print(f'Q1 (25th percentile)\\t\\t: {Q1:.2f}')\n",
    "print(f'Q2 (50th percentile, median)\\t: {Q2:.2f}')\n",
    "print(f'Q3 (75th percentile)\\t\\t: {Q3:.2f}')"
   ]
  },
  {
   "cell_type": "code",
   "execution_count": 74,
   "id": "de56de6e",
   "metadata": {},
   "outputs": [],
   "source": [
    "frequencies, bins_edges = np.histogram(n, bins = 11)"
   ]
  },
  {
   "cell_type": "code",
   "execution_count": 75,
   "id": "f8433c1d",
   "metadata": {},
   "outputs": [
    {
     "data": {
      "text/html": [
       "<div>\n",
       "<style scoped>\n",
       "    .dataframe tbody tr th:only-of-type {\n",
       "        vertical-align: middle;\n",
       "    }\n",
       "\n",
       "    .dataframe tbody tr th {\n",
       "        vertical-align: top;\n",
       "    }\n",
       "\n",
       "    .dataframe thead th {\n",
       "        text-align: right;\n",
       "    }\n",
       "</style>\n",
       "<table border=\"1\" class=\"dataframe\">\n",
       "  <thead>\n",
       "    <tr style=\"text-align: right;\">\n",
       "      <th></th>\n",
       "      <th>Lower Edge</th>\n",
       "      <th>Upper Edge</th>\n",
       "      <th>Frequency</th>\n",
       "    </tr>\n",
       "  </thead>\n",
       "  <tbody>\n",
       "    <tr>\n",
       "      <th>0</th>\n",
       "      <td>0.04</td>\n",
       "      <td>0.87</td>\n",
       "      <td>47</td>\n",
       "    </tr>\n",
       "    <tr>\n",
       "      <th>1</th>\n",
       "      <td>0.87</td>\n",
       "      <td>1.69</td>\n",
       "      <td>21</td>\n",
       "    </tr>\n",
       "    <tr>\n",
       "      <th>2</th>\n",
       "      <td>1.69</td>\n",
       "      <td>2.52</td>\n",
       "      <td>20</td>\n",
       "    </tr>\n",
       "    <tr>\n",
       "      <th>3</th>\n",
       "      <td>2.52</td>\n",
       "      <td>3.35</td>\n",
       "      <td>11</td>\n",
       "    </tr>\n",
       "    <tr>\n",
       "      <th>4</th>\n",
       "      <td>3.35</td>\n",
       "      <td>4.17</td>\n",
       "      <td>2</td>\n",
       "    </tr>\n",
       "    <tr>\n",
       "      <th>5</th>\n",
       "      <td>4.17</td>\n",
       "      <td>5.00</td>\n",
       "      <td>7</td>\n",
       "    </tr>\n",
       "    <tr>\n",
       "      <th>6</th>\n",
       "      <td>5.00</td>\n",
       "      <td>5.82</td>\n",
       "      <td>1</td>\n",
       "    </tr>\n",
       "    <tr>\n",
       "      <th>7</th>\n",
       "      <td>5.82</td>\n",
       "      <td>6.65</td>\n",
       "      <td>3</td>\n",
       "    </tr>\n",
       "    <tr>\n",
       "      <th>8</th>\n",
       "      <td>6.65</td>\n",
       "      <td>7.48</td>\n",
       "      <td>0</td>\n",
       "    </tr>\n",
       "    <tr>\n",
       "      <th>9</th>\n",
       "      <td>7.48</td>\n",
       "      <td>8.30</td>\n",
       "      <td>0</td>\n",
       "    </tr>\n",
       "    <tr>\n",
       "      <th>10</th>\n",
       "      <td>8.30</td>\n",
       "      <td>9.13</td>\n",
       "      <td>1</td>\n",
       "    </tr>\n",
       "  </tbody>\n",
       "</table>\n",
       "</div>"
      ],
      "text/plain": [
       "    Lower Edge  Upper Edge  Frequency\n",
       "0         0.04        0.87         47\n",
       "1         0.87        1.69         21\n",
       "2         1.69        2.52         20\n",
       "3         2.52        3.35         11\n",
       "4         3.35        4.17          2\n",
       "5         4.17        5.00          7\n",
       "6         5.00        5.82          1\n",
       "7         5.82        6.65          3\n",
       "8         6.65        7.48          0\n",
       "9         7.48        8.30          0\n",
       "10        8.30        9.13          1"
      ]
     },
     "execution_count": 75,
     "metadata": {},
     "output_type": "execute_result"
    }
   ],
   "source": [
    "frequency_table = pd.DataFrame({'Lower Edge':np.round(bins_edges[:-1],2),'Upper Edge': np.round(bins_edges[1:],2), 'Frequency':frequencies})\n",
    "frequency_table"
   ]
  },
  {
   "cell_type": "code",
   "execution_count": 76,
   "id": "c251f966",
   "metadata": {},
   "outputs": [
    {
     "data": {
      "image/png": "[encoded data removed]",
      "text/plain": [
       "<Figure size 800x200 with 1 Axes>"
      ]
     },
     "metadata": {},
     "output_type": "display_data"
    }
   ],
   "source": [
    "plt.figure(figsize=(8,2))\n",
    "sns.boxplot(random_values, orient = 'h')\n",
    "plt.show()"
   ]
  },
  {
   "cell_type": "code",
   "execution_count": 77,
   "id": "b24c5387",
   "metadata": {},
   "outputs": [
    {
     "data": {
      "image/png": "[encoded data removed]",
      "text/plain": [
       "<Figure size 900x400 with 1 Axes>"
      ]
     },
     "metadata": {},
     "output_type": "display_data"
    }
   ],
   "source": [
    "plt.figure(figsize=(9,4))\n",
    "plt.subplot(121);sns.histplot(random_values, bins = 11);plt.title('Histogram of inter-arrival time');plt.xlim(0)\n",
    "plt.tight_layout()\n",
    "plt.show()"
   ]
  },
  {
   "cell_type": "code",
   "execution_count": 30,
   "id": "c40d2162",
   "metadata": {},
   "outputs": [
    {
     "data": {
      "text/plain": [
       "array([ 2.,  4.,  8.,  8.,  9., 10., 12., 14., 16., 18., 22., 20., 20.,\n",
       "       22., 23., 24., 24., 26., 27., 29., 28., 31., 30., 30., 33., 31.,\n",
       "       31., 30., 32., 31., 31., 30., 30., 29., 28., 28., 27., 26., 26.,\n",
       "       24., 26., 22., 21., 19., 18., 17., 15., 15., 14., 11., 10.,  8.,\n",
       "        7.,  4.,  3.,  1.,  2.,  3.,  5.,  6.,  8.,  9., 12., 12., 16.,\n",
       "       15., 17., 18., 19., 21., 25., 24., 24., 26., 27., 27., 27., 32.,\n",
       "       29., 30., 30., 33., 31., 30., 31., 36., 31., 32., 30., 29., 30.,\n",
       "       28., 27., 29., 27., 24., 24., 23., 22., 20., 20., 17., 16., 15.,\n",
       "       14., 14., 10., 10.,  8.,  5.,  5.,  3.])"
      ]
     },
     "execution_count": 30,
     "metadata": {},
     "output_type": "execute_result"
    }
   ],
   "source": []
  },
  {
   "cell_type": "code",
   "execution_count": null,
   "id": "9de7e238",
   "metadata": {},
   "outputs": [],
   "source": []
  }
 ],
 "metadata": {
  "kernelspec": {
   "display_name": "Python 3 (ipykernel)",
   "language": "python",
   "name": "python3"
  },
  "language_info": {
   "codemirror_mode": {
    "name": "ipython",
    "version": 3
   },
   "file_extension": ".py",
   "mimetype": "text/x-python",
   "name": "python",
   "nbconvert_exporter": "python",
   "pygments_lexer": "ipython3",
   "version": "3.11.4"
  }
 },
 "nbformat": 4,
 "nbformat_minor": 5
}

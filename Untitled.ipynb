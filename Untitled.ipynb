{
 "cells": [
  {
   "cell_type": "code",
   "execution_count": 31,
   "id": "02bc5dac",
   "metadata": {},
   "outputs": [],
   "source": [
    "import numpy as np\n",
    "import pandas as pd\n",
    "from pandas import Series, DataFrame\n",
    "\n",
    "rng = np.random.RandomState(42)"
   ]
  },
  {
   "cell_type": "code",
   "execution_count": 75,
   "id": "ce5d5e89",
   "metadata": {},
   "outputs": [],
   "source": [
    "df = DataFrame(rng.rand(1000,3), columns=['A','B','C'])"
   ]
  },
  {
   "cell_type": "code",
   "execution_count": 77,
   "id": "400557d7",
   "metadata": {},
   "outputs": [],
   "source": [
    "df.eval('D=(A+B)/C', inplace = True)"
   ]
  },
  {
   "cell_type": "code",
   "execution_count": 78,
   "id": "529cbc19",
   "metadata": {},
   "outputs": [
    {
     "data": {
      "text/html": [
       "<div>\n",
       "<style scoped>\n",
       "    .dataframe tbody tr th:only-of-type {\n",
       "        vertical-align: middle;\n",
       "    }\n",
       "\n",
       "    .dataframe tbody tr th {\n",
       "        vertical-align: top;\n",
       "    }\n",
       "\n",
       "    .dataframe thead th {\n",
       "        text-align: right;\n",
       "    }\n",
       "</style>\n",
       "<table border=\"1\" class=\"dataframe\">\n",
       "  <thead>\n",
       "    <tr style=\"text-align: right;\">\n",
       "      <th></th>\n",
       "      <th>A</th>\n",
       "      <th>B</th>\n",
       "      <th>C</th>\n",
       "      <th>D</th>\n",
       "    </tr>\n",
       "  </thead>\n",
       "  <tbody>\n",
       "    <tr>\n",
       "      <th>0</th>\n",
       "      <td>0.463236</td>\n",
       "      <td>0.180263</td>\n",
       "      <td>0.865085</td>\n",
       "      <td>0.743856</td>\n",
       "    </tr>\n",
       "    <tr>\n",
       "      <th>1</th>\n",
       "      <td>0.993862</td>\n",
       "      <td>0.260735</td>\n",
       "      <td>0.490803</td>\n",
       "      <td>2.556213</td>\n",
       "    </tr>\n",
       "    <tr>\n",
       "      <th>2</th>\n",
       "      <td>0.389338</td>\n",
       "      <td>0.117690</td>\n",
       "      <td>0.863978</td>\n",
       "      <td>0.586854</td>\n",
       "    </tr>\n",
       "    <tr>\n",
       "      <th>3</th>\n",
       "      <td>0.651512</td>\n",
       "      <td>0.397546</td>\n",
       "      <td>0.664984</td>\n",
       "      <td>1.577568</td>\n",
       "    </tr>\n",
       "    <tr>\n",
       "      <th>4</th>\n",
       "      <td>0.630191</td>\n",
       "      <td>0.227212</td>\n",
       "      <td>0.635784</td>\n",
       "      <td>1.348577</td>\n",
       "    </tr>\n",
       "    <tr>\n",
       "      <th>...</th>\n",
       "      <td>...</td>\n",
       "      <td>...</td>\n",
       "      <td>...</td>\n",
       "      <td>...</td>\n",
       "    </tr>\n",
       "    <tr>\n",
       "      <th>995</th>\n",
       "      <td>0.123883</td>\n",
       "      <td>0.958804</td>\n",
       "      <td>0.594635</td>\n",
       "      <td>1.820758</td>\n",
       "    </tr>\n",
       "    <tr>\n",
       "      <th>996</th>\n",
       "      <td>0.650699</td>\n",
       "      <td>0.217224</td>\n",
       "      <td>0.220966</td>\n",
       "      <td>3.927855</td>\n",
       "    </tr>\n",
       "    <tr>\n",
       "      <th>997</th>\n",
       "      <td>0.522053</td>\n",
       "      <td>0.141948</td>\n",
       "      <td>0.276021</td>\n",
       "      <td>2.405619</td>\n",
       "    </tr>\n",
       "    <tr>\n",
       "      <th>998</th>\n",
       "      <td>0.962381</td>\n",
       "      <td>0.901015</td>\n",
       "      <td>0.426932</td>\n",
       "      <td>4.364623</td>\n",
       "    </tr>\n",
       "    <tr>\n",
       "      <th>999</th>\n",
       "      <td>0.342399</td>\n",
       "      <td>0.012629</td>\n",
       "      <td>0.206610</td>\n",
       "      <td>1.718343</td>\n",
       "    </tr>\n",
       "  </tbody>\n",
       "</table>\n",
       "<p>1000 rows × 4 columns</p>\n",
       "</div>"
      ],
      "text/plain": [
       "            A         B         C         D\n",
       "0    0.463236  0.180263  0.865085  0.743856\n",
       "1    0.993862  0.260735  0.490803  2.556213\n",
       "2    0.389338  0.117690  0.863978  0.586854\n",
       "3    0.651512  0.397546  0.664984  1.577568\n",
       "4    0.630191  0.227212  0.635784  1.348577\n",
       "..        ...       ...       ...       ...\n",
       "995  0.123883  0.958804  0.594635  1.820758\n",
       "996  0.650699  0.217224  0.220966  3.927855\n",
       "997  0.522053  0.141948  0.276021  2.405619\n",
       "998  0.962381  0.901015  0.426932  4.364623\n",
       "999  0.342399  0.012629  0.206610  1.718343\n",
       "\n",
       "[1000 rows x 4 columns]"
      ]
     },
     "execution_count": 78,
     "metadata": {},
     "output_type": "execute_result"
    }
   ],
   "source": [
    "df"
   ]
  },
  {
   "cell_type": "code",
   "execution_count": 83,
   "id": "8570349a",
   "metadata": {},
   "outputs": [],
   "source": [
    "column_mean = df.mean(1)"
   ]
  },
  {
   "cell_type": "code",
   "execution_count": 84,
   "id": "0b3b7311",
   "metadata": {},
   "outputs": [],
   "source": [
    "result1 = df.A - column_mean"
   ]
  },
  {
   "cell_type": "code",
   "execution_count": 85,
   "id": "770827b5",
   "metadata": {},
   "outputs": [
    {
     "data": {
      "text/plain": [
       "0     -0.099874\n",
       "1     -0.081541\n",
       "2     -0.100127\n",
       "3     -0.171390\n",
       "4     -0.080250\n",
       "         ...   \n",
       "995   -0.750637\n",
       "996   -0.603487\n",
       "997   -0.314358\n",
       "998   -0.701357\n",
       "999   -0.227596\n",
       "Length: 1000, dtype: float64"
      ]
     },
     "execution_count": 85,
     "metadata": {},
     "output_type": "execute_result"
    }
   ],
   "source": [
    "result1"
   ]
  },
  {
   "cell_type": "code",
   "execution_count": 88,
   "id": "4f64c894",
   "metadata": {},
   "outputs": [],
   "source": [
    "result2 = df.eval('A - @column_mean')"
   ]
  },
  {
   "cell_type": "code",
   "execution_count": 89,
   "id": "a566da7b",
   "metadata": {},
   "outputs": [
    {
     "data": {
      "text/plain": [
       "True"
      ]
     },
     "execution_count": 89,
     "metadata": {},
     "output_type": "execute_result"
    }
   ],
   "source": [
    "np.allclose(result1, result2)"
   ]
  },
  {
   "cell_type": "code",
   "execution_count": 91,
   "id": "acee2220",
   "metadata": {},
   "outputs": [
    {
     "data": {
      "text/html": [
       "<div>\n",
       "<style scoped>\n",
       "    .dataframe tbody tr th:only-of-type {\n",
       "        vertical-align: middle;\n",
       "    }\n",
       "\n",
       "    .dataframe tbody tr th {\n",
       "        vertical-align: top;\n",
       "    }\n",
       "\n",
       "    .dataframe thead th {\n",
       "        text-align: right;\n",
       "    }\n",
       "</style>\n",
       "<table border=\"1\" class=\"dataframe\">\n",
       "  <thead>\n",
       "    <tr style=\"text-align: right;\">\n",
       "      <th></th>\n",
       "      <th>A</th>\n",
       "      <th>B</th>\n",
       "      <th>C</th>\n",
       "      <th>D</th>\n",
       "    </tr>\n",
       "  </thead>\n",
       "  <tbody>\n",
       "    <tr>\n",
       "      <th>1</th>\n",
       "      <td>0.993862</td>\n",
       "      <td>0.260735</td>\n",
       "      <td>0.490803</td>\n",
       "      <td>2.556213</td>\n",
       "    </tr>\n",
       "    <tr>\n",
       "      <th>3</th>\n",
       "      <td>0.651512</td>\n",
       "      <td>0.397546</td>\n",
       "      <td>0.664984</td>\n",
       "      <td>1.577568</td>\n",
       "    </tr>\n",
       "    <tr>\n",
       "      <th>4</th>\n",
       "      <td>0.630191</td>\n",
       "      <td>0.227212</td>\n",
       "      <td>0.635784</td>\n",
       "      <td>1.348577</td>\n",
       "    </tr>\n",
       "    <tr>\n",
       "      <th>5</th>\n",
       "      <td>0.812748</td>\n",
       "      <td>0.028389</td>\n",
       "      <td>0.534346</td>\n",
       "      <td>1.574144</td>\n",
       "    </tr>\n",
       "    <tr>\n",
       "      <th>14</th>\n",
       "      <td>0.730755</td>\n",
       "      <td>0.001219</td>\n",
       "      <td>0.326227</td>\n",
       "      <td>2.243761</td>\n",
       "    </tr>\n",
       "    <tr>\n",
       "      <th>...</th>\n",
       "      <td>...</td>\n",
       "      <td>...</td>\n",
       "      <td>...</td>\n",
       "      <td>...</td>\n",
       "    </tr>\n",
       "    <tr>\n",
       "      <th>980</th>\n",
       "      <td>0.826317</td>\n",
       "      <td>0.247198</td>\n",
       "      <td>0.537312</td>\n",
       "      <td>1.997935</td>\n",
       "    </tr>\n",
       "    <tr>\n",
       "      <th>982</th>\n",
       "      <td>0.543677</td>\n",
       "      <td>0.032640</td>\n",
       "      <td>0.335590</td>\n",
       "      <td>1.717326</td>\n",
       "    </tr>\n",
       "    <tr>\n",
       "      <th>994</th>\n",
       "      <td>0.822373</td>\n",
       "      <td>0.366293</td>\n",
       "      <td>0.338135</td>\n",
       "      <td>3.515361</td>\n",
       "    </tr>\n",
       "    <tr>\n",
       "      <th>996</th>\n",
       "      <td>0.650699</td>\n",
       "      <td>0.217224</td>\n",
       "      <td>0.220966</td>\n",
       "      <td>3.927855</td>\n",
       "    </tr>\n",
       "    <tr>\n",
       "      <th>997</th>\n",
       "      <td>0.522053</td>\n",
       "      <td>0.141948</td>\n",
       "      <td>0.276021</td>\n",
       "      <td>2.405619</td>\n",
       "    </tr>\n",
       "  </tbody>\n",
       "</table>\n",
       "<p>240 rows × 4 columns</p>\n",
       "</div>"
      ],
      "text/plain": [
       "            A         B         C         D\n",
       "1    0.993862  0.260735  0.490803  2.556213\n",
       "3    0.651512  0.397546  0.664984  1.577568\n",
       "4    0.630191  0.227212  0.635784  1.348577\n",
       "5    0.812748  0.028389  0.534346  1.574144\n",
       "14   0.730755  0.001219  0.326227  2.243761\n",
       "..        ...       ...       ...       ...\n",
       "980  0.826317  0.247198  0.537312  1.997935\n",
       "982  0.543677  0.032640  0.335590  1.717326\n",
       "994  0.822373  0.366293  0.338135  3.515361\n",
       "996  0.650699  0.217224  0.220966  3.927855\n",
       "997  0.522053  0.141948  0.276021  2.405619\n",
       "\n",
       "[240 rows x 4 columns]"
      ]
     },
     "execution_count": 91,
     "metadata": {},
     "output_type": "execute_result"
    }
   ],
   "source": [
    "df[(df.A > 0.5) & (df.B < 0.5)]"
   ]
  },
  {
   "cell_type": "code",
   "execution_count": null,
   "id": "3ee250db",
   "metadata": {},
   "outputs": [],
   "source": []
  }
 ],
 "metadata": {
  "kernelspec": {
   "display_name": "Python 3 (ipykernel)",
   "language": "python",
   "name": "python3"
  },
  "language_info": {
   "codemirror_mode": {
    "name": "ipython",
    "version": 3
   },
   "file_extension": ".py",
   "mimetype": "text/x-python",
   "name": "python",
   "nbconvert_exporter": "python",
   "pygments_lexer": "ipython3",
   "version": "3.11.4"
  }
 },
 "nbformat": 4,
 "nbformat_minor": 5
}

{
 "cells": [
  {
   "cell_type": "markdown",
   "id": "2a316a49",
   "metadata": {},
   "source": [
    "The data measured is the inter arrival time of a customer to a USPS location (1975 Ballpark Way, Arlington, TX, 76006)\n",
    "\n",
    "The data is measured in minutes i.e. the length of the inter-arrival time is measured in minutes\n",
    "\n",
    "The number of instances is 113"
   ]
  },
  {
   "cell_type": "code",
   "execution_count": 52,
   "id": "14155c95",
   "metadata": {},
   "outputs": [],
   "source": [
    "%matplotlib inline\n",
    "import numpy as np\n",
    "import pandas as pd\n",
    "import matplotlib.pyplot as plt\n",
    "import seaborn as sns\n",
    "\n",
    "plt.style.use('seaborn-v0_8')"
   ]
  },
  {
   "cell_type": "code",
   "execution_count": 31,
   "id": "1a4a2569",
   "metadata": {},
   "outputs": [],
   "source": [
    "inter_arrival_time = [1.32, 0.58, 0.72, 0.57, 0.18, 1.07, 0.27, 0.02, \n",
    "                      0.86, 0.16, 2.35, 2.56, 2.05, 0.39, 0.01, 2.2, \n",
    "                      0.47, 2.83, 2.76, 1.6, 0.29, 0.41, 1.59, 0.32, \n",
    "                      0.15, 0.68, 2.29, 0.99, 0.7, 0.09, 0.8, 3.84, \n",
    "                      0.13, 0.61, 1.75, 1.13, 1.0, 1.01, 0.37, 0.29, \n",
    "                      1.38, 1.38, 1.68, 2.04, 0.6, 0.58, 1.33, 0.87, \n",
    "                      1.01, 1.32, 1.84, 0.34, 0.39, 0.08, 0.72, 0.03, \n",
    "                      0.52, 0.65, 0.28, 0.74, 0.03, 0.03, 1.44, 0.37, \n",
    "                      0.11, 0.62, 1.22, 0.2, 0.81, 0.07, 0.04, 0.63, \n",
    "                      0.65, 0.85, 1.08, 3.1, 0.61, 0.33, 1.32, 0.26, \n",
    "                      0.48, 0.07, 0.02, 2.74, 1.51, 0.99, 0.44, 0.16, \n",
    "                      0.14, 0.24, 0.66, 1.04, 0.9, 0.27, 2.58, 1.12, \n",
    "                      0.67, 0.79, 0.45, 0.24, 0.37, 1.18, 0.01, 0.1, \n",
    "                      0.04, 0.03, 1.61, 1.01, 0.54, 0.09, 0.56, 0.53, 0.16]"
   ]
  },
  {
   "cell_type": "code",
   "execution_count": 51,
   "id": "32651718",
   "metadata": {},
   "outputs": [
    {
     "name": "stdout",
     "output_type": "stream",
     "text": [
      "Mean: 0.84\n",
      "Variance: 0.61\n",
      "Standard Deviation: 0.78\n"
     ]
    }
   ],
   "source": [
    "mean = np.mean(inter_arrival_time)\n",
    "variance = np.var(inter_arrival_time)\n",
    "standard_deviation = np.std(inter_arrival_time)\n",
    "print(f'Mean: {mean:.2f}')\n",
    "print(f'Variance: {variance:.2f}')\n",
    "print(f'Standard Deviation: {standard_deviation:.2f}')"
   ]
  },
  {
   "cell_type": "code",
   "execution_count": 49,
   "id": "89af7b56",
   "metadata": {},
   "outputs": [
    {
     "name": "stdout",
     "output_type": "stream",
     "text": [
      "Quartiles:\n",
      "Q1 (25th percentile)\t\t: 0.27\n",
      "Q2 (50th percentile, median)\t: 0.62\n",
      "Q3 (75th percentile)\t\t: 1.13\n"
     ]
    }
   ],
   "source": [
    "print('Quartiles:')\n",
    "Q1 = np.percentile(inter_arrival_time, 25)\n",
    "Q2 = np.percentile(inter_arrival_time, 50)\n",
    "Q3 = np.percentile(inter_arrival_time, 75)\n",
    "# Print the quartile values\n",
    "print(f'Q1 (25th percentile)\\t\\t: {Q1:.2f}')\n",
    "print(f'Q2 (50th percentile, median)\\t: {Q2:.2f}')\n",
    "print(f'Q3 (75th percentile)\\t\\t: {Q3:.2f}')"
   ]
  },
  {
   "cell_type": "code",
   "execution_count": 54,
   "id": "de56de6e",
   "metadata": {},
   "outputs": [],
   "source": [
    "frequencies, bins_edges = np.histogram(inter_arrival_time, bins = 11)"
   ]
  },
  {
   "cell_type": "code",
   "execution_count": 56,
   "id": "f8433c1d",
   "metadata": {},
   "outputs": [
    {
     "data": {
      "text/html": [
       "<div>\n",
       "<style scoped>\n",
       "    .dataframe tbody tr th:only-of-type {\n",
       "        vertical-align: middle;\n",
       "    }\n",
       "\n",
       "    .dataframe tbody tr th {\n",
       "        vertical-align: top;\n",
       "    }\n",
       "\n",
       "    .dataframe thead th {\n",
       "        text-align: right;\n",
       "    }\n",
       "</style>\n",
       "<table border=\"1\" class=\"dataframe\">\n",
       "  <thead>\n",
       "    <tr style=\"text-align: right;\">\n",
       "      <th></th>\n",
       "      <th>Lower Edge</th>\n",
       "      <th>Upper Edge</th>\n",
       "      <th>Frequency</th>\n",
       "    </tr>\n",
       "  </thead>\n",
       "  <tbody>\n",
       "    <tr>\n",
       "      <th>0</th>\n",
       "      <td>0.01</td>\n",
       "      <td>0.36</td>\n",
       "      <td>36</td>\n",
       "    </tr>\n",
       "    <tr>\n",
       "      <th>1</th>\n",
       "      <td>0.36</td>\n",
       "      <td>0.71</td>\n",
       "      <td>28</td>\n",
       "    </tr>\n",
       "    <tr>\n",
       "      <th>2</th>\n",
       "      <td>0.71</td>\n",
       "      <td>1.05</td>\n",
       "      <td>17</td>\n",
       "    </tr>\n",
       "    <tr>\n",
       "      <th>3</th>\n",
       "      <td>1.05</td>\n",
       "      <td>1.40</td>\n",
       "      <td>12</td>\n",
       "    </tr>\n",
       "    <tr>\n",
       "      <th>4</th>\n",
       "      <td>1.40</td>\n",
       "      <td>1.75</td>\n",
       "      <td>7</td>\n",
       "    </tr>\n",
       "    <tr>\n",
       "      <th>5</th>\n",
       "      <td>1.75</td>\n",
       "      <td>2.10</td>\n",
       "      <td>3</td>\n",
       "    </tr>\n",
       "    <tr>\n",
       "      <th>6</th>\n",
       "      <td>2.10</td>\n",
       "      <td>2.45</td>\n",
       "      <td>3</td>\n",
       "    </tr>\n",
       "    <tr>\n",
       "      <th>7</th>\n",
       "      <td>2.45</td>\n",
       "      <td>2.80</td>\n",
       "      <td>4</td>\n",
       "    </tr>\n",
       "    <tr>\n",
       "      <th>8</th>\n",
       "      <td>2.80</td>\n",
       "      <td>3.14</td>\n",
       "      <td>2</td>\n",
       "    </tr>\n",
       "    <tr>\n",
       "      <th>9</th>\n",
       "      <td>3.14</td>\n",
       "      <td>3.49</td>\n",
       "      <td>0</td>\n",
       "    </tr>\n",
       "    <tr>\n",
       "      <th>10</th>\n",
       "      <td>3.49</td>\n",
       "      <td>3.84</td>\n",
       "      <td>1</td>\n",
       "    </tr>\n",
       "  </tbody>\n",
       "</table>\n",
       "</div>"
      ],
      "text/plain": [
       "    Lower Edge  Upper Edge  Frequency\n",
       "0         0.01        0.36         36\n",
       "1         0.36        0.71         28\n",
       "2         0.71        1.05         17\n",
       "3         1.05        1.40         12\n",
       "4         1.40        1.75          7\n",
       "5         1.75        2.10          3\n",
       "6         2.10        2.45          3\n",
       "7         2.45        2.80          4\n",
       "8         2.80        3.14          2\n",
       "9         3.14        3.49          0\n",
       "10        3.49        3.84          1"
      ]
     },
     "execution_count": 56,
     "metadata": {},
     "output_type": "execute_result"
    }
   ],
   "source": [
    "frequency_table = pd.DataFrame({'Lower Edge':np.round(bins_edges[:-1],2),'Upper Edge': np.round(bins_edges[1:],2), 'Frequency':frequencies})\n",
    "frequency_table"
   ]
  },
  {
   "cell_type": "code",
   "execution_count": 50,
   "id": "c251f966",
   "metadata": {},
   "outputs": [
    {
     "data": {
      "image/png": "[encoded data removed]",
      "text/plain": [
       "<Figure size 800x200 with 1 Axes>"
      ]
     },
     "metadata": {},
     "output_type": "display_data"
    }
   ],
   "source": [
    "plt.figure(figsize=(8,2))\n",
    "sns.boxplot(inter_arrival_time, orient = 'h')\n",
    "plt.show()"
   ]
  },
  {
   "cell_type": "code",
   "execution_count": 53,
   "id": "b24c5387",
   "metadata": {},
   "outputs": [
    {
     "data": {
      "image/png": "[encoded data removed]",
      "text/plain": [
       "<Figure size 900x400 with 2 Axes>"
      ]
     },
     "metadata": {},
     "output_type": "display_data"
    }
   ],
   "source": [
    "plt.figure(figsize=(9,4))\n",
    "plt.subplot(121);sns.histplot(inter_arrival_time, bins = 11);plt.title('Histogram of inter-arrival time');plt.xlim(0)\n",
    "plt.subplot(122);sns.kdeplot(inter_arrival_time, fill=True, alpha = 0.7);plt.title('Kernel Density Estimation of the inter-arrival time');plt.xlim(0)\n",
    "plt.tight_layout()\n",
    "plt.show()"
   ]
  },
  {
   "cell_type": "code",
   "execution_count": null,
   "id": "910c6cf4",
   "metadata": {},
   "outputs": [],
   "source": []
  }
 ],
 "metadata": {
  "kernelspec": {
   "display_name": "Python 3 (ipykernel)",
   "language": "python",
   "name": "python3"
  },
  "language_info": {
   "codemirror_mode": {
    "name": "ipython",
    "version": 3
   },
   "file_extension": ".py",
   "mimetype": "text/x-python",
   "name": "python",
   "nbconvert_exporter": "python",
   "pygments_lexer": "ipython3",
   "version": "3.11.4"
  }
 },
 "nbformat": 4,
 "nbformat_minor": 5
}

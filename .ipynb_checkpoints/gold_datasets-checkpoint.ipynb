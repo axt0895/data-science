{
 "cells": [
  {
   "cell_type": "code",
   "execution_count": 2,
   "id": "5ab08563",
   "metadata": {},
   "outputs": [
    {
     "data": {
      "text/plain": [
       "RandomState(MT19937) at 0x12116A740"
      ]
     },
     "execution_count": 2,
     "metadata": {},
     "output_type": "execute_result"
    }
   ],
   "source": [
    "%matplotlib inline\n",
    "import numpy as np\n",
    "import pandas as pd\n",
    "import matplotlib as mpl\n",
    "import matplotlib.pyplot as plt\n",
    "import seaborn as sns\n",
    "\n",
    "np.random.RandomState(42)"
   ]
  },
  {
   "cell_type": "code",
   "execution_count": 3,
   "id": "469a2936",
   "metadata": {},
   "outputs": [
    {
     "data": {
      "text/plain": [
       "(2511, 7)"
      ]
     },
     "execution_count": 3,
     "metadata": {},
     "output_type": "execute_result"
    }
   ],
   "source": [
    "data = pd.read_csv('/Users/anilthapa/Documents/Datasets/Data-Science Class/goldstock.csv')\n",
    "data.shape"
   ]
  },
  {
   "cell_type": "code",
   "execution_count": 4,
   "id": "1b1bdc03",
   "metadata": {},
   "outputs": [
    {
     "data": {
      "text/html": [
       "<div>\n",
       "<style scoped>\n",
       "    .dataframe tbody tr th:only-of-type {\n",
       "        vertical-align: middle;\n",
       "    }\n",
       "\n",
       "    .dataframe tbody tr th {\n",
       "        vertical-align: top;\n",
       "    }\n",
       "\n",
       "    .dataframe thead th {\n",
       "        text-align: right;\n",
       "    }\n",
       "</style>\n",
       "<table border=\"1\" class=\"dataframe\">\n",
       "  <thead>\n",
       "    <tr style=\"text-align: right;\">\n",
       "      <th></th>\n",
       "      <th>Unnamed: 0</th>\n",
       "      <th>Date</th>\n",
       "      <th>Close</th>\n",
       "      <th>Volume</th>\n",
       "      <th>Open</th>\n",
       "      <th>High</th>\n",
       "      <th>Low</th>\n",
       "    </tr>\n",
       "  </thead>\n",
       "  <tbody>\n",
       "    <tr>\n",
       "      <th>0</th>\n",
       "      <td>0</td>\n",
       "      <td>2024-01-19</td>\n",
       "      <td>2029.3</td>\n",
       "      <td>166078.0</td>\n",
       "      <td>2027.4</td>\n",
       "      <td>2041.9</td>\n",
       "      <td>2022.2</td>\n",
       "    </tr>\n",
       "    <tr>\n",
       "      <th>1</th>\n",
       "      <td>1</td>\n",
       "      <td>2024-01-18</td>\n",
       "      <td>2021.6</td>\n",
       "      <td>167013.0</td>\n",
       "      <td>2009.1</td>\n",
       "      <td>2025.6</td>\n",
       "      <td>2007.7</td>\n",
       "    </tr>\n",
       "    <tr>\n",
       "      <th>2</th>\n",
       "      <td>2</td>\n",
       "      <td>2024-01-17</td>\n",
       "      <td>2006.5</td>\n",
       "      <td>245194.0</td>\n",
       "      <td>2031.7</td>\n",
       "      <td>2036.1</td>\n",
       "      <td>2004.6</td>\n",
       "    </tr>\n",
       "    <tr>\n",
       "      <th>3</th>\n",
       "      <td>3</td>\n",
       "      <td>2024-01-16</td>\n",
       "      <td>2030.2</td>\n",
       "      <td>277995.0</td>\n",
       "      <td>2053.4</td>\n",
       "      <td>2062.8</td>\n",
       "      <td>2027.6</td>\n",
       "    </tr>\n",
       "    <tr>\n",
       "      <th>4</th>\n",
       "      <td>4</td>\n",
       "      <td>2024-01-12</td>\n",
       "      <td>2051.6</td>\n",
       "      <td>250946.0</td>\n",
       "      <td>2033.2</td>\n",
       "      <td>2067.3</td>\n",
       "      <td>2033.1</td>\n",
       "    </tr>\n",
       "    <tr>\n",
       "      <th>5</th>\n",
       "      <td>5</td>\n",
       "      <td>2024-01-11</td>\n",
       "      <td>2019.2</td>\n",
       "      <td>270624.0</td>\n",
       "      <td>2029.4</td>\n",
       "      <td>2056.1</td>\n",
       "      <td>2017.3</td>\n",
       "    </tr>\n",
       "    <tr>\n",
       "      <th>6</th>\n",
       "      <td>6</td>\n",
       "      <td>2024-01-10</td>\n",
       "      <td>2027.8</td>\n",
       "      <td>183625.0</td>\n",
       "      <td>2036.0</td>\n",
       "      <td>2046.2</td>\n",
       "      <td>2025.9</td>\n",
       "    </tr>\n",
       "    <tr>\n",
       "      <th>7</th>\n",
       "      <td>7</td>\n",
       "      <td>2024-01-09</td>\n",
       "      <td>2033.0</td>\n",
       "      <td>194610.0</td>\n",
       "      <td>2034.5</td>\n",
       "      <td>2048.6</td>\n",
       "      <td>2031.9</td>\n",
       "    </tr>\n",
       "    <tr>\n",
       "      <th>8</th>\n",
       "      <td>8</td>\n",
       "      <td>2024-01-08</td>\n",
       "      <td>2033.5</td>\n",
       "      <td>199325.0</td>\n",
       "      <td>2052.6</td>\n",
       "      <td>2053.3</td>\n",
       "      <td>2022.7</td>\n",
       "    </tr>\n",
       "    <tr>\n",
       "      <th>9</th>\n",
       "      <td>9</td>\n",
       "      <td>2024-01-05</td>\n",
       "      <td>2049.8</td>\n",
       "      <td>208861.0</td>\n",
       "      <td>2051.4</td>\n",
       "      <td>2071.1</td>\n",
       "      <td>2030.8</td>\n",
       "    </tr>\n",
       "  </tbody>\n",
       "</table>\n",
       "</div>"
      ],
      "text/plain": [
       "   Unnamed: 0        Date   Close    Volume    Open    High     Low\n",
       "0           0  2024-01-19  2029.3  166078.0  2027.4  2041.9  2022.2\n",
       "1           1  2024-01-18  2021.6  167013.0  2009.1  2025.6  2007.7\n",
       "2           2  2024-01-17  2006.5  245194.0  2031.7  2036.1  2004.6\n",
       "3           3  2024-01-16  2030.2  277995.0  2053.4  2062.8  2027.6\n",
       "4           4  2024-01-12  2051.6  250946.0  2033.2  2067.3  2033.1\n",
       "5           5  2024-01-11  2019.2  270624.0  2029.4  2056.1  2017.3\n",
       "6           6  2024-01-10  2027.8  183625.0  2036.0  2046.2  2025.9\n",
       "7           7  2024-01-09  2033.0  194610.0  2034.5  2048.6  2031.9\n",
       "8           8  2024-01-08  2033.5  199325.0  2052.6  2053.3  2022.7\n",
       "9           9  2024-01-05  2049.8  208861.0  2051.4  2071.1  2030.8"
      ]
     },
     "execution_count": 4,
     "metadata": {},
     "output_type": "execute_result"
    }
   ],
   "source": [
    "data.head(n = 10)"
   ]
  },
  {
   "cell_type": "code",
   "execution_count": 5,
   "id": "b45b8c03",
   "metadata": {},
   "outputs": [
    {
     "name": "stdout",
     "output_type": "stream",
     "text": [
      "<class 'pandas.core.frame.DataFrame'>\n",
      "RangeIndex: 2511 entries, 0 to 2510\n",
      "Data columns (total 7 columns):\n",
      " #   Column      Non-Null Count  Dtype  \n",
      "---  ------      --------------  -----  \n",
      " 0   Unnamed: 0  2511 non-null   int64  \n",
      " 1   Date        2511 non-null   object \n",
      " 2   Close       2511 non-null   float64\n",
      " 3   Volume      2511 non-null   float64\n",
      " 4   Open        2511 non-null   float64\n",
      " 5   High        2511 non-null   float64\n",
      " 6   Low         2511 non-null   float64\n",
      "dtypes: float64(5), int64(1), object(1)\n",
      "memory usage: 137.4+ KB\n"
     ]
    }
   ],
   "source": [
    "data.info()"
   ]
  },
  {
   "cell_type": "code",
   "execution_count": 6,
   "id": "843b0ea5",
   "metadata": {},
   "outputs": [
    {
     "data": {
      "text/html": [
       "<div>\n",
       "<style scoped>\n",
       "    .dataframe tbody tr th:only-of-type {\n",
       "        vertical-align: middle;\n",
       "    }\n",
       "\n",
       "    .dataframe tbody tr th {\n",
       "        vertical-align: top;\n",
       "    }\n",
       "\n",
       "    .dataframe thead th {\n",
       "        text-align: right;\n",
       "    }\n",
       "</style>\n",
       "<table border=\"1\" class=\"dataframe\">\n",
       "  <thead>\n",
       "    <tr style=\"text-align: right;\">\n",
       "      <th></th>\n",
       "      <th>Unnamed: 0</th>\n",
       "      <th>Close</th>\n",
       "      <th>Volume</th>\n",
       "      <th>Open</th>\n",
       "      <th>High</th>\n",
       "      <th>Low</th>\n",
       "    </tr>\n",
       "  </thead>\n",
       "  <tbody>\n",
       "    <tr>\n",
       "      <th>count</th>\n",
       "      <td>2511.000000</td>\n",
       "      <td>2511.000000</td>\n",
       "      <td>2511.000000</td>\n",
       "      <td>2511.000000</td>\n",
       "      <td>2511.000000</td>\n",
       "      <td>2511.000000</td>\n",
       "    </tr>\n",
       "    <tr>\n",
       "      <th>mean</th>\n",
       "      <td>1260.792911</td>\n",
       "      <td>1498.726085</td>\n",
       "      <td>185970.770609</td>\n",
       "      <td>1498.725528</td>\n",
       "      <td>1508.451454</td>\n",
       "      <td>1488.869932</td>\n",
       "    </tr>\n",
       "    <tr>\n",
       "      <th>std</th>\n",
       "      <td>729.262879</td>\n",
       "      <td>298.824811</td>\n",
       "      <td>97600.769382</td>\n",
       "      <td>299.118187</td>\n",
       "      <td>301.262244</td>\n",
       "      <td>296.417703</td>\n",
       "    </tr>\n",
       "    <tr>\n",
       "      <th>min</th>\n",
       "      <td>0.000000</td>\n",
       "      <td>1049.600000</td>\n",
       "      <td>1.000000</td>\n",
       "      <td>1051.500000</td>\n",
       "      <td>1062.700000</td>\n",
       "      <td>1045.400000</td>\n",
       "    </tr>\n",
       "    <tr>\n",
       "      <th>25%</th>\n",
       "      <td>630.500000</td>\n",
       "      <td>1249.850000</td>\n",
       "      <td>126693.500000</td>\n",
       "      <td>1249.500000</td>\n",
       "      <td>1257.300000</td>\n",
       "      <td>1242.350000</td>\n",
       "    </tr>\n",
       "    <tr>\n",
       "      <th>50%</th>\n",
       "      <td>1259.000000</td>\n",
       "      <td>1332.800000</td>\n",
       "      <td>175421.000000</td>\n",
       "      <td>1334.000000</td>\n",
       "      <td>1342.400000</td>\n",
       "      <td>1326.600000</td>\n",
       "    </tr>\n",
       "    <tr>\n",
       "      <th>75%</th>\n",
       "      <td>1888.500000</td>\n",
       "      <td>1805.850000</td>\n",
       "      <td>234832.000000</td>\n",
       "      <td>1805.600000</td>\n",
       "      <td>1815.450000</td>\n",
       "      <td>1793.050000</td>\n",
       "    </tr>\n",
       "    <tr>\n",
       "      <th>max</th>\n",
       "      <td>2532.000000</td>\n",
       "      <td>2093.100000</td>\n",
       "      <td>787217.000000</td>\n",
       "      <td>2094.400000</td>\n",
       "      <td>2098.200000</td>\n",
       "      <td>2074.600000</td>\n",
       "    </tr>\n",
       "  </tbody>\n",
       "</table>\n",
       "</div>"
      ],
      "text/plain": [
       "        Unnamed: 0        Close         Volume         Open         High  \\\n",
       "count  2511.000000  2511.000000    2511.000000  2511.000000  2511.000000   \n",
       "mean   1260.792911  1498.726085  185970.770609  1498.725528  1508.451454   \n",
       "std     729.262879   298.824811   97600.769382   299.118187   301.262244   \n",
       "min       0.000000  1049.600000       1.000000  1051.500000  1062.700000   \n",
       "25%     630.500000  1249.850000  126693.500000  1249.500000  1257.300000   \n",
       "50%    1259.000000  1332.800000  175421.000000  1334.000000  1342.400000   \n",
       "75%    1888.500000  1805.850000  234832.000000  1805.600000  1815.450000   \n",
       "max    2532.000000  2093.100000  787217.000000  2094.400000  2098.200000   \n",
       "\n",
       "               Low  \n",
       "count  2511.000000  \n",
       "mean   1488.869932  \n",
       "std     296.417703  \n",
       "min    1045.400000  \n",
       "25%    1242.350000  \n",
       "50%    1326.600000  \n",
       "75%    1793.050000  \n",
       "max    2074.600000  "
      ]
     },
     "execution_count": 6,
     "metadata": {},
     "output_type": "execute_result"
    }
   ],
   "source": [
    "data.describe()"
   ]
  },
  {
   "cell_type": "code",
   "execution_count": 7,
   "id": "289167e7",
   "metadata": {},
   "outputs": [],
   "source": [
    "data.set_index('Date', inplace=True)"
   ]
  },
  {
   "cell_type": "code",
   "execution_count": 10,
   "id": "fbc776f1",
   "metadata": {},
   "outputs": [
    {
     "data": {
      "text/plain": [
       "Index(['Unnamed: 0', 'Close', 'Volume', 'Open', 'High', 'Low'], dtype='object')"
      ]
     },
     "execution_count": 10,
     "metadata": {},
     "output_type": "execute_result"
    }
   ],
   "source": [
    "data.columns"
   ]
  },
  {
   "cell_type": "code",
   "execution_count": 11,
   "id": "762557e6",
   "metadata": {},
   "outputs": [],
   "source": [
    "data.drop('Unnamed: 0', axis = 1, inplace=True)"
   ]
  },
  {
   "cell_type": "code",
   "execution_count": 12,
   "id": "c4013f8d",
   "metadata": {},
   "outputs": [
    {
     "data": {
      "text/html": [
       "<div>\n",
       "<style scoped>\n",
       "    .dataframe tbody tr th:only-of-type {\n",
       "        vertical-align: middle;\n",
       "    }\n",
       "\n",
       "    .dataframe tbody tr th {\n",
       "        vertical-align: top;\n",
       "    }\n",
       "\n",
       "    .dataframe thead th {\n",
       "        text-align: right;\n",
       "    }\n",
       "</style>\n",
       "<table border=\"1\" class=\"dataframe\">\n",
       "  <thead>\n",
       "    <tr style=\"text-align: right;\">\n",
       "      <th></th>\n",
       "      <th>Close</th>\n",
       "      <th>Volume</th>\n",
       "      <th>Open</th>\n",
       "      <th>High</th>\n",
       "      <th>Low</th>\n",
       "    </tr>\n",
       "    <tr>\n",
       "      <th>Date</th>\n",
       "      <th></th>\n",
       "      <th></th>\n",
       "      <th></th>\n",
       "      <th></th>\n",
       "      <th></th>\n",
       "    </tr>\n",
       "  </thead>\n",
       "  <tbody>\n",
       "    <tr>\n",
       "      <th>2024-01-19</th>\n",
       "      <td>2029.3</td>\n",
       "      <td>166078.0</td>\n",
       "      <td>2027.4</td>\n",
       "      <td>2041.9</td>\n",
       "      <td>2022.2</td>\n",
       "    </tr>\n",
       "    <tr>\n",
       "      <th>2024-01-18</th>\n",
       "      <td>2021.6</td>\n",
       "      <td>167013.0</td>\n",
       "      <td>2009.1</td>\n",
       "      <td>2025.6</td>\n",
       "      <td>2007.7</td>\n",
       "    </tr>\n",
       "    <tr>\n",
       "      <th>2024-01-17</th>\n",
       "      <td>2006.5</td>\n",
       "      <td>245194.0</td>\n",
       "      <td>2031.7</td>\n",
       "      <td>2036.1</td>\n",
       "      <td>2004.6</td>\n",
       "    </tr>\n",
       "    <tr>\n",
       "      <th>2024-01-16</th>\n",
       "      <td>2030.2</td>\n",
       "      <td>277995.0</td>\n",
       "      <td>2053.4</td>\n",
       "      <td>2062.8</td>\n",
       "      <td>2027.6</td>\n",
       "    </tr>\n",
       "    <tr>\n",
       "      <th>2024-01-12</th>\n",
       "      <td>2051.6</td>\n",
       "      <td>250946.0</td>\n",
       "      <td>2033.2</td>\n",
       "      <td>2067.3</td>\n",
       "      <td>2033.1</td>\n",
       "    </tr>\n",
       "  </tbody>\n",
       "</table>\n",
       "</div>"
      ],
      "text/plain": [
       "             Close    Volume    Open    High     Low\n",
       "Date                                                \n",
       "2024-01-19  2029.3  166078.0  2027.4  2041.9  2022.2\n",
       "2024-01-18  2021.6  167013.0  2009.1  2025.6  2007.7\n",
       "2024-01-17  2006.5  245194.0  2031.7  2036.1  2004.6\n",
       "2024-01-16  2030.2  277995.0  2053.4  2062.8  2027.6\n",
       "2024-01-12  2051.6  250946.0  2033.2  2067.3  2033.1"
      ]
     },
     "execution_count": 12,
     "metadata": {},
     "output_type": "execute_result"
    }
   ],
   "source": [
    "data.head()"
   ]
  },
  {
   "cell_type": "code",
   "execution_count": 13,
   "id": "9a32634d",
   "metadata": {},
   "outputs": [
    {
     "data": {
      "text/plain": [
       "Index(['Close', 'Volume', 'Open', 'High', 'Low'], dtype='object')"
      ]
     },
     "execution_count": 13,
     "metadata": {},
     "output_type": "execute_result"
    }
   ],
   "source": [
    "data.columns"
   ]
  },
  {
   "cell_type": "code",
   "execution_count": 14,
   "id": "a8980220",
   "metadata": {},
   "outputs": [
    {
     "data": {
      "text/html": [
       "<div>\n",
       "<style scoped>\n",
       "    .dataframe tbody tr th:only-of-type {\n",
       "        vertical-align: middle;\n",
       "    }\n",
       "\n",
       "    .dataframe tbody tr th {\n",
       "        vertical-align: top;\n",
       "    }\n",
       "\n",
       "    .dataframe thead th {\n",
       "        text-align: right;\n",
       "    }\n",
       "</style>\n",
       "<table border=\"1\" class=\"dataframe\">\n",
       "  <thead>\n",
       "    <tr style=\"text-align: right;\">\n",
       "      <th></th>\n",
       "      <th>Open</th>\n",
       "      <th>Close</th>\n",
       "      <th>High</th>\n",
       "      <th>Low</th>\n",
       "      <th>Volume</th>\n",
       "    </tr>\n",
       "    <tr>\n",
       "      <th>Date</th>\n",
       "      <th></th>\n",
       "      <th></th>\n",
       "      <th></th>\n",
       "      <th></th>\n",
       "      <th></th>\n",
       "    </tr>\n",
       "  </thead>\n",
       "  <tbody>\n",
       "    <tr>\n",
       "      <th>2024-01-19</th>\n",
       "      <td>2027.4</td>\n",
       "      <td>2029.3</td>\n",
       "      <td>2041.9</td>\n",
       "      <td>2022.2</td>\n",
       "      <td>166078.0</td>\n",
       "    </tr>\n",
       "    <tr>\n",
       "      <th>2024-01-18</th>\n",
       "      <td>2009.1</td>\n",
       "      <td>2021.6</td>\n",
       "      <td>2025.6</td>\n",
       "      <td>2007.7</td>\n",
       "      <td>167013.0</td>\n",
       "    </tr>\n",
       "    <tr>\n",
       "      <th>2024-01-17</th>\n",
       "      <td>2031.7</td>\n",
       "      <td>2006.5</td>\n",
       "      <td>2036.1</td>\n",
       "      <td>2004.6</td>\n",
       "      <td>245194.0</td>\n",
       "    </tr>\n",
       "    <tr>\n",
       "      <th>2024-01-16</th>\n",
       "      <td>2053.4</td>\n",
       "      <td>2030.2</td>\n",
       "      <td>2062.8</td>\n",
       "      <td>2027.6</td>\n",
       "      <td>277995.0</td>\n",
       "    </tr>\n",
       "    <tr>\n",
       "      <th>2024-01-12</th>\n",
       "      <td>2033.2</td>\n",
       "      <td>2051.6</td>\n",
       "      <td>2067.3</td>\n",
       "      <td>2033.1</td>\n",
       "      <td>250946.0</td>\n",
       "    </tr>\n",
       "  </tbody>\n",
       "</table>\n",
       "</div>"
      ],
      "text/plain": [
       "              Open   Close    High     Low    Volume\n",
       "Date                                                \n",
       "2024-01-19  2027.4  2029.3  2041.9  2022.2  166078.0\n",
       "2024-01-18  2009.1  2021.6  2025.6  2007.7  167013.0\n",
       "2024-01-17  2031.7  2006.5  2036.1  2004.6  245194.0\n",
       "2024-01-16  2053.4  2030.2  2062.8  2027.6  277995.0\n",
       "2024-01-12  2033.2  2051.6  2067.3  2033.1  250946.0"
      ]
     },
     "execution_count": 14,
     "metadata": {},
     "output_type": "execute_result"
    }
   ],
   "source": [
    "data = data[[ 'Open','Close',  'High', 'Low','Volume']]\n",
    "data.head()"
   ]
  },
  {
   "cell_type": "code",
   "execution_count": 18,
   "id": "32355cc5",
   "metadata": {},
   "outputs": [
    {
     "data": {
      "image/png": "[encoded data removed]",
      "text/plain": [
       "<Figure size 1000x800 with 1 Axes>"
      ]
     },
     "metadata": {},
     "output_type": "display_data"
    }
   ],
   "source": [
    "plt.figure(figsize = (10,8))\n",
    "plt.plot(data['Open'], color = 'r')\n",
    "plt.plot(data['Close'], color ='k')\n",
    "plt.show()"
   ]
  },
  {
   "cell_type": "code",
   "execution_count": null,
   "id": "bec3f6cc",
   "metadata": {},
   "outputs": [],
   "source": []
  }
 ],
 "metadata": {
  "kernelspec": {
   "display_name": "Python 3 (ipykernel)",
   "language": "python",
   "name": "python3"
  },
  "language_info": {
   "codemirror_mode": {
    "name": "ipython",
    "version": 3
   },
   "file_extension": ".py",
   "mimetype": "text/x-python",
   "name": "python",
   "nbconvert_exporter": "python",
   "pygments_lexer": "ipython3",
   "version": "3.11.4"
  }
 },
 "nbformat": 4,
 "nbformat_minor": 5
}

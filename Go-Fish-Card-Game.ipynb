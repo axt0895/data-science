{
 "cells": [
  {
   "cell_type": "code",
   "execution_count": 2,
   "id": "c8a8f511",
   "metadata": {},
   "outputs": [],
   "source": [
    "import random\n",
    "from collections import deque"
   ]
  },
  {
   "cell_type": "code",
   "execution_count": 3,
   "id": "fd026a10",
   "metadata": {},
   "outputs": [],
   "source": [
    "queue = deque()"
   ]
  },
  {
   "cell_type": "code",
   "execution_count": 4,
   "id": "5a17d7e7",
   "metadata": {},
   "outputs": [],
   "source": [
    "queue.append(1)\n",
    "queue.append(2)\n",
    "queue.append(3)\n",
    "queue.append(4)\n",
    "queue.append(5)\n",
    "queue.append(6)"
   ]
  },
  {
   "cell_type": "code",
   "execution_count": 5,
   "id": "fb3cf2fc",
   "metadata": {},
   "outputs": [
    {
     "data": {
      "text/plain": [
       "deque([1, 2, 3, 4, 5, 6])"
      ]
     },
     "execution_count": 5,
     "metadata": {},
     "output_type": "execute_result"
    }
   ],
   "source": [
    "queue"
   ]
  },
  {
   "cell_type": "code",
   "execution_count": 8,
   "id": "77633f23",
   "metadata": {},
   "outputs": [
    {
     "data": {
      "text/plain": [
       "6"
      ]
     },
     "execution_count": 8,
     "metadata": {},
     "output_type": "execute_result"
    }
   ],
   "source": [
    "queue.pop()"
   ]
  },
  {
   "cell_type": "code",
   "execution_count": 10,
   "id": "6d737f13",
   "metadata": {
    "scrolled": true
   },
   "outputs": [
    {
     "data": {
      "text/plain": [
       "1"
      ]
     },
     "execution_count": 10,
     "metadata": {},
     "output_type": "execute_result"
    }
   ],
   "source": [
    "queue.popleft()"
   ]
  },
  {
   "cell_type": "code",
   "execution_count": 14,
   "id": "9af2d9ba",
   "metadata": {},
   "outputs": [],
   "source": [
    "deck = deque()"
   ]
  },
  {
   "cell_type": "code",
   "execution_count": 42,
   "id": "62d3bf89",
   "metadata": {},
   "outputs": [],
   "source": [
    "ranks = ['2','3','4','5','6','7','8','9','10','J','Q','K','A']\n",
    "suits = ['Hearts', 'Diamonds', 'Clubs', 'Spades']\n",
    "deck = deque((rank, suit) for rank in ranks for suit in suits)"
   ]
  },
  {
   "cell_type": "code",
   "execution_count": 43,
   "id": "77a36c58",
   "metadata": {},
   "outputs": [],
   "source": [
    "def shuffle_deck(deck):\n",
    "    random.shuffle(deck)"
   ]
  },
  {
   "cell_type": "code",
   "execution_count": 44,
   "id": "999f9509",
   "metadata": {},
   "outputs": [
    {
     "data": {
      "text/plain": [
       "deque([('J', 'Clubs'),\n",
       "       ('7', 'Diamonds'),\n",
       "       ('A', 'Clubs'),\n",
       "       ('7', 'Spades'),\n",
       "       ('3', 'Clubs'),\n",
       "       ('8', 'Hearts'),\n",
       "       ('10', 'Clubs'),\n",
       "       ('7', 'Clubs'),\n",
       "       ('Q', 'Spades'),\n",
       "       ('3', 'Spades'),\n",
       "       ('5', 'Spades'),\n",
       "       ('K', 'Hearts'),\n",
       "       ('6', 'Clubs'),\n",
       "       ('5', 'Diamonds'),\n",
       "       ('10', 'Spades'),\n",
       "       ('3', 'Diamonds'),\n",
       "       ('2', 'Spades'),\n",
       "       ('9', 'Clubs'),\n",
       "       ('A', 'Hearts'),\n",
       "       ('K', 'Diamonds'),\n",
       "       ('4', 'Spades'),\n",
       "       ('J', 'Diamonds'),\n",
       "       ('10', 'Hearts'),\n",
       "       ('10', 'Diamonds'),\n",
       "       ('A', 'Spades'),\n",
       "       ('2', 'Clubs'),\n",
       "       ('2', 'Hearts'),\n",
       "       ('A', 'Diamonds'),\n",
       "       ('K', 'Clubs'),\n",
       "       ('Q', 'Hearts'),\n",
       "       ('8', 'Spades'),\n",
       "       ('8', 'Diamonds'),\n",
       "       ('5', 'Hearts'),\n",
       "       ('9', 'Spades'),\n",
       "       ('Q', 'Diamonds'),\n",
       "       ('4', 'Clubs'),\n",
       "       ('J', 'Spades'),\n",
       "       ('8', 'Clubs'),\n",
       "       ('5', 'Clubs'),\n",
       "       ('Q', 'Clubs'),\n",
       "       ('6', 'Spades'),\n",
       "       ('K', 'Spades'),\n",
       "       ('J', 'Hearts'),\n",
       "       ('7', 'Hearts'),\n",
       "       ('9', 'Diamonds'),\n",
       "       ('6', 'Diamonds'),\n",
       "       ('9', 'Hearts'),\n",
       "       ('2', 'Diamonds'),\n",
       "       ('4', 'Hearts'),\n",
       "       ('3', 'Hearts'),\n",
       "       ('6', 'Hearts'),\n",
       "       ('4', 'Diamonds')])"
      ]
     },
     "execution_count": 44,
     "metadata": {},
     "output_type": "execute_result"
    }
   ],
   "source": [
    "shuffle_deck(deck)\n",
    "deck"
   ]
  },
  {
   "cell_type": "code",
   "execution_count": 39,
   "id": "f6f8ade4",
   "metadata": {},
   "outputs": [
    {
     "name": "stdout",
     "output_type": "stream",
     "text": [
      "Please enter the num of players: 3\n"
     ]
    }
   ],
   "source": [
    "n = int(input('Please enter the num of players: '))\n",
    "players = [[] for i in range(n)]"
   ]
  },
  {
   "cell_type": "code",
   "execution_count": 40,
   "id": "9e49d64e",
   "metadata": {
    "scrolled": true
   },
   "outputs": [
    {
     "data": {
      "text/plain": [
       "[[], [], []]"
      ]
     },
     "execution_count": 40,
     "metadata": {},
     "output_type": "execute_result"
    }
   ],
   "source": [
    "players"
   ]
  },
  {
   "cell_type": "code",
   "execution_count": 45,
   "id": "46ee8394",
   "metadata": {},
   "outputs": [
    {
     "data": {
      "text/plain": [
       "deque([('J', 'Clubs'),\n",
       "       ('7', 'Diamonds'),\n",
       "       ('A', 'Clubs'),\n",
       "       ('7', 'Spades'),\n",
       "       ('3', 'Clubs'),\n",
       "       ('8', 'Hearts'),\n",
       "       ('10', 'Clubs'),\n",
       "       ('7', 'Clubs'),\n",
       "       ('Q', 'Spades'),\n",
       "       ('3', 'Spades'),\n",
       "       ('5', 'Spades'),\n",
       "       ('K', 'Hearts'),\n",
       "       ('6', 'Clubs'),\n",
       "       ('5', 'Diamonds'),\n",
       "       ('10', 'Spades'),\n",
       "       ('3', 'Diamonds'),\n",
       "       ('2', 'Spades'),\n",
       "       ('9', 'Clubs'),\n",
       "       ('A', 'Hearts'),\n",
       "       ('K', 'Diamonds'),\n",
       "       ('4', 'Spades'),\n",
       "       ('J', 'Diamonds'),\n",
       "       ('10', 'Hearts'),\n",
       "       ('10', 'Diamonds'),\n",
       "       ('A', 'Spades'),\n",
       "       ('2', 'Clubs'),\n",
       "       ('2', 'Hearts'),\n",
       "       ('A', 'Diamonds'),\n",
       "       ('K', 'Clubs'),\n",
       "       ('Q', 'Hearts'),\n",
       "       ('8', 'Spades'),\n",
       "       ('8', 'Diamonds'),\n",
       "       ('5', 'Hearts'),\n",
       "       ('9', 'Spades'),\n",
       "       ('Q', 'Diamonds'),\n",
       "       ('4', 'Clubs'),\n",
       "       ('J', 'Spades'),\n",
       "       ('8', 'Clubs'),\n",
       "       ('5', 'Clubs'),\n",
       "       ('Q', 'Clubs'),\n",
       "       ('6', 'Spades'),\n",
       "       ('K', 'Spades'),\n",
       "       ('J', 'Hearts'),\n",
       "       ('7', 'Hearts'),\n",
       "       ('9', 'Diamonds'),\n",
       "       ('6', 'Diamonds'),\n",
       "       ('9', 'Hearts'),\n",
       "       ('2', 'Diamonds'),\n",
       "       ('4', 'Hearts'),\n",
       "       ('3', 'Hearts'),\n",
       "       ('6', 'Hearts'),\n",
       "       ('4', 'Diamonds')])"
      ]
     },
     "execution_count": 45,
     "metadata": {},
     "output_type": "execute_result"
    }
   ],
   "source": [
    "deck"
   ]
  },
  {
   "cell_type": "code",
   "execution_count": 46,
   "id": "648c2c74",
   "metadata": {},
   "outputs": [],
   "source": [
    "while deck:\n",
    "    for player in players:\n",
    "        if deck:\n",
    "            player.append(deck.popleft())"
   ]
  },
  {
   "cell_type": "code",
   "execution_count": 49,
   "id": "271708d2",
   "metadata": {},
   "outputs": [
    {
     "name": "stdout",
     "output_type": "stream",
     "text": [
      "[('J', 'Clubs'), ('7', 'Spades'), ('10', 'Clubs'), ('3', 'Spades'), ('6', 'Clubs'), ('3', 'Diamonds'), ('A', 'Hearts'), ('J', 'Diamonds'), ('A', 'Spades'), ('A', 'Diamonds'), ('8', 'Spades'), ('9', 'Spades'), ('J', 'Spades'), ('Q', 'Clubs'), ('J', 'Hearts'), ('6', 'Diamonds'), ('4', 'Hearts'), ('4', 'Diamonds')]\n",
      "\n",
      "[('7', 'Diamonds'), ('3', 'Clubs'), ('7', 'Clubs'), ('5', 'Spades'), ('5', 'Diamonds'), ('2', 'Spades'), ('K', 'Diamonds'), ('10', 'Hearts'), ('2', 'Clubs'), ('K', 'Clubs'), ('8', 'Diamonds'), ('Q', 'Diamonds'), ('8', 'Clubs'), ('6', 'Spades'), ('7', 'Hearts'), ('9', 'Hearts'), ('3', 'Hearts')]\n",
      "\n",
      "[('A', 'Clubs'), ('8', 'Hearts'), ('Q', 'Spades'), ('K', 'Hearts'), ('10', 'Spades'), ('9', 'Clubs'), ('4', 'Spades'), ('10', 'Diamonds'), ('2', 'Hearts'), ('Q', 'Hearts'), ('5', 'Hearts'), ('4', 'Clubs'), ('5', 'Clubs'), ('K', 'Spades'), ('9', 'Diamonds'), ('2', 'Diamonds'), ('6', 'Hearts')]\n",
      "\n"
     ]
    }
   ],
   "source": [
    "for i, player in enumerate(players):\n",
    "    print(player, end ='\\n\\n')"
   ]
  },
  {
   "cell_type": "code",
   "execution_count": null,
   "id": "75a9a95a",
   "metadata": {},
   "outputs": [],
   "source": []
  }
 ],
 "metadata": {
  "kernelspec": {
   "display_name": "Python 3 (ipykernel)",
   "language": "python",
   "name": "python3"
  },
  "language_info": {
   "codemirror_mode": {
    "name": "ipython",
    "version": 3
   },
   "file_extension": ".py",
   "mimetype": "text/x-python",
   "name": "python",
   "nbconvert_exporter": "python",
   "pygments_lexer": "ipython3",
   "version": "3.11.4"
  }
 },
 "nbformat": 4,
 "nbformat_minor": 5
}
